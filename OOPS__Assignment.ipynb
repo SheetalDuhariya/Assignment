{
  "nbformat": 4,
  "nbformat_minor": 0,
  "metadata": {
    "colab": {
      "provenance": []
    },
    "kernelspec": {
      "name": "python3",
      "display_name": "Python 3"
    },
    "language_info": {
      "name": "python"
    }
  },
  "cells": [
    {
      "cell_type": "markdown",
      "source": [
        "1. What are the five key concepts of Object-Oriented Programming (OOP)?\n",
        "\n",
        "Object-Oriented Programming (OOP) is a programming paradigm that organizes software design around data, or objects, rather than functions and logic. The five key concepts of OOP are:\n",
        "\n",
        "1. Encapsulation\n",
        "Encapsulation is the practice of bundling the data (attributes) and methods (functions) that operate on the data into a single unit called an object.\n",
        "\n",
        "2. Inheritance\n",
        "Inheritance allows a new class (subclass) to inherit properties and behaviors from an existing class (superclass).\n",
        "\n",
        "3. Polymorphism\n",
        "Polymorphism enables objects of different classes to be treated as objects of a common superclass.\n",
        "\n",
        "4. Abstraction\n",
        "Abstraction focuses on hiding the complex reality while exposing only the necessary parts\n",
        "\n",
        "5. Composition\n",
        "Composition is a form of association where one class contains references to objects of other classes."
      ],
      "metadata": {
        "id": "DH_RD0lWousp"
      }
    },
    {
      "cell_type": "code",
      "source": [
        "# Que 2. Write a Python class for a `Car` with attributes for `make`, `model`, and `year`. Include a method to display the car's information.\n",
        "\n",
        "class Car :\n",
        "  def __init__(self,make,model,year):\n",
        "    self.make = make\n",
        "    self.model = model\n",
        "    self.year = year\n",
        "\n",
        "  def display_info(self):\n",
        "    # Display the car's info.\n",
        "    info = f\"Car Information:\\n\"\\\n",
        "           f\"make: {self.make}\\n\"\\\n",
        "           f\"model: {self.model}\\n\"\\\n",
        "           f\"year: {self.year}\\n\"\n",
        "    print(info)\n",
        "\n",
        "if __name__ == \"__main__\":\n",
        "  my_car = Car(\"Toyota\", \"Camry\", 2020)\n",
        "  my_car.display_info()\n",
        "\n",
        "\n"
      ],
      "metadata": {
        "id": "a6Uj1GWLplpG",
        "colab": {
          "base_uri": "https://localhost:8080/"
        },
        "outputId": "d9fc4fd4-e386-4c91-d8db-3550a38d48e2"
      },
      "execution_count": 5,
      "outputs": [
        {
          "output_type": "stream",
          "name": "stdout",
          "text": [
            "Car Information:\n",
            "make: Toyota\n",
            "model: Camry\n",
            "year: 2020\n",
            "\n"
          ]
        }
      ]
    },
    {
      "cell_type": "code",
      "source": [
        "# Que 3. Explain the difference between instance methods and class methods. Provide an example of each.\n",
        "# Feature\t              -    Instance Method\t                                    Class Method\n",
        "# Definition\t          -    Operates on an instance of a class\t                  Operates on the class itself\n",
        "# First Parameter\t      -    self (instance reference)\t                          cls (class reference)\n",
        "# Access to Variables\t  -    Can access both instance and class variables\t        Can only access class variables\n",
        "# Usage Context\t        -    Modifying or accessing instance-specific data\t      Modifying or accessing class-level data\n",
        "\n",
        "# Instance Method (Self)\n",
        "\n",
        "class shape:\n",
        "  def __init__(self, name)  :\n",
        "    self.name = name # instance variable\n",
        "\n",
        "  def edge(self):\n",
        "   return f\"{self.name} has 3 edges .\" # accessing instance variable\n",
        "\n",
        "# creating a instance of shape\n",
        "my_shape = shape (\"Triangle\")\n",
        "print(my_shape.edge())\n",
        "\n",
        "# Class Method\n",
        "\n",
        "class shape:\n",
        "  properties = \"2D shapes have sides and angles.\" # class variable\n",
        "\n",
        "  @classmethod\n",
        "  def get_properties(cls):\n",
        "    return cls.properties # accessing the class variable\n",
        "\n",
        "# calling the class method\n",
        "print(shape.get_properties())\n"
      ],
      "metadata": {
        "colab": {
          "base_uri": "https://localhost:8080/"
        },
        "id": "L-4ipeXQquzj",
        "outputId": "ad647a6a-5b8c-419c-bcf7-7a3c59a07247"
      },
      "execution_count": 7,
      "outputs": [
        {
          "output_type": "stream",
          "name": "stdout",
          "text": [
            "Triangle has 3 edges .\n",
            "2D shapes have sides and angles.\n"
          ]
        }
      ]
    },
    {
      "cell_type": "code",
      "source": [
        "# Que 4. How does Python implement method overloading? Give an example.\n",
        "\n",
        "# Python does not support true method overloading in the traditional sense if define multiple methods with the same name, only the last definition will be retained. However,\n",
        "# can achieve similar functionality using default arguments or variable-length arguments.\n",
        "# Achieving Method Overloading in Python - Using Default Arguments ( define a method that takes default values for parameters, allowing it to handle different numbers of arguments.)\n",
        "\n",
        "# Example\n",
        "\n",
        "class School_facluty:\n",
        "  def teacher(self):\n",
        "    print(\"Welcome to our school.\")\n",
        "  def teacher(self,name = \" \"):\n",
        "    print(\"Welcome to our school ,\",name)\n",
        "  def teacher(self,name = \"\",ID = \"\"):\n",
        "    print(\"Welcome to our school ,\",name,ID)\n",
        "  def teacher(self,name = \"\",ID = \"\",subject = \"\"):\n",
        "    print(\"Welcome to our school ,\",name,ID,subject)\n",
        "\n",
        "facluty = School_facluty()\n",
        "facluty.teacher()\n",
        "facluty.teacher(\"Ruchika\")\n",
        "facluty.teacher(\"Ruchika\",\"138457\")\n",
        "facluty.teacher(\"Ruchika\",\"138457\",\"Computer Science\")\n"
      ],
      "metadata": {
        "colab": {
          "base_uri": "https://localhost:8080/"
        },
        "id": "dgI82GpY4rsw",
        "outputId": "7e77a450-125a-4614-939a-5db5c7c77739"
      },
      "execution_count": 27,
      "outputs": [
        {
          "output_type": "stream",
          "name": "stdout",
          "text": [
            "Welcome to our school ,   \n",
            "Welcome to our school , Ruchika  \n",
            "Welcome to our school , Ruchika 138457 \n",
            "Welcome to our school , Ruchika 138457 Computer Science\n"
          ]
        }
      ]
    },
    {
      "cell_type": "code",
      "source": [
        "# Que 5. What are the three types of access modifiers in Python? How are they denoted?\n",
        "\n",
        "# Types of Access Modifiers\n",
        "\n",
        "# 1. Public Access Modifier - Members declared as public can be accessed from any part of the program, both inside and outside the class.\n",
        "# 2. Protected Access Modifier - Members declared as protected can be accessed within the class and by subclasses. They are intended for internal use and should not be accessed directly from outside the class hierarchy.\n",
        "# 3. Private Access Modifier - Members declared as private can only be accessed within the class where they are defined. They are not accessible from outside the class or by subclasses.\n",
        "\n",
        "class Employee:\n",
        "  def __init__(self,name):\n",
        "    self.name = name  # public attribute (Denotation: No special prefix is used; by default, all members are public.)\n",
        "\n",
        "emp = Employee(\"Sheetal\")\n",
        "print(emp.name)\n",
        "\n",
        "class Employee:\n",
        "  def __init__(self,name):\n",
        "    self._name = name  # Protected attribute (Denotation: A single underscore (_) prefix is used.)\n",
        "\n",
        "class Manager(Employee):\n",
        "  def display(self):\n",
        "    print(self._name)\n",
        "\n",
        "mgr = Manager(\"Ron\")\n",
        "mgr.display()\n",
        "\n",
        "class Employee:\n",
        "  def __init__(self, name):\n",
        "    self.__name = name #  # Private attribute (Denotation: A double underscore (__) prefix is used.)\n",
        "  def get_name(self):\n",
        "    return self.__name\n",
        "\n",
        "emp = Employee(\"Tina\")\n",
        "print(emp.get_name())"
      ],
      "metadata": {
        "colab": {
          "base_uri": "https://localhost:8080/"
        },
        "id": "AJZuIFjwBL7B",
        "outputId": "a7cc4dc4-787c-40f4-e292-44e879e3f85a"
      },
      "execution_count": 34,
      "outputs": [
        {
          "output_type": "stream",
          "name": "stdout",
          "text": [
            "Sheetal\n",
            "Ron\n",
            "Tina\n"
          ]
        }
      ]
    },
    {
      "cell_type": "code",
      "source": [
        "# Que 6. Describe the five types of inheritance in Python. Provide a simple example of multiple inheritance.\n",
        "\n",
        "#  Inheritance allows a class to inherit properties and behaviors from another class.\n",
        "# 1. Single Inheritance -  In single inheritance, a derived class inherits from a single base class. This is the simplest form of inheritance.\n",
        "# 2. Multiple Inheritance -  Multiple inheritance allows a derived class to inherit from more than one base class. This enables the child class to access attributes and methods from multiple parents.\n",
        "# 3. Multilevel Inheritance -  In multilevel inheritance, a derived class inherits from another derived class, forming a hierarchy.\n",
        "# 4. Hierarchical Inheritance - Hierarchical inheritance occurs when multiple derived classes inherit from a single base class.\n",
        "# 5. Hybrid Inheritance -  Hybrid inheritance combines two or more types of inheritance. It can involve multiple and hierarchical inheritance simultaneously.\n",
        "\n",
        "# Example of multiple inheritance.\n",
        "\n",
        "class Parent_1:\n",
        "  def Parent_1(self):\n",
        "    print(\"This is Parent_1.\")\n",
        "\n",
        "class Parent_2:\n",
        "  def Parent_2(self):\n",
        "    print(\"This is Parent_2.\")\n",
        "\n",
        "class Child(Parent_1,Parent_2):\n",
        "  def Parents(self):\n",
        "    self.Parent_1()\n",
        "    self.Parent_2()\n",
        "\n",
        "child = Child()\n",
        "child.Parents()\n"
      ],
      "metadata": {
        "colab": {
          "base_uri": "https://localhost:8080/"
        },
        "id": "I0Aye5fPFn-l",
        "outputId": "5da235fb-681f-43ec-8e19-1efba4443c1b"
      },
      "execution_count": 37,
      "outputs": [
        {
          "output_type": "stream",
          "name": "stdout",
          "text": [
            "This is Parent_1.\n",
            "This is Parent_2.\n"
          ]
        }
      ]
    },
    {
      "cell_type": "markdown",
      "source": [
        "Que 7. What is the Method Resolution Order (MRO) in Python? How can you retrieve it programmatically?\n",
        "\n",
        "MRO defines the sequence in which Python searches for a method in a class hierarchy. When a method is called on an object, Python first checks the object's class, then moves up to its parent classes from left to right, following the order specified in the class definition. This order is particularly important when dealing with multiple inheritance, as it helps to avoid ambiguity and conflicts.\n",
        "\n",
        "For example, if you have a class C that inherits from classes B and A, the MRO would be C -> B -> A. If a method is not found in C, Python will look for it in B, and if not found there, it will check A.\n",
        "\n",
        "Retrieve MRO Programmatically -\n",
        "\n",
        "retrieve the MRO of a class using either the mro() method or the \"__mro\" attribute. Both provide the same information but in slightly different formats."
      ],
      "metadata": {
        "id": "k4T3nS-uJUw1"
      }
    },
    {
      "cell_type": "code",
      "source": [
        "# Que 8. Create an abstract base class `Shape` with an abstract method `area()`. Then create two subclasses\n",
        "# `Circle` and `Rectangle` that implement the `area()` method.\n",
        "\n",
        "from abc import ABC, abstractmethod\n",
        "import math\n",
        "\n",
        "class Shape(ABC):\n",
        "  @abstractmethod\n",
        "  def area(self):\n",
        "    pass\n",
        "class Circle(shape):\n",
        "  def __init__(self,radius):\n",
        "    self.radius = radius\n",
        "\n",
        "  def area(self):\n",
        "    return math.pi * self.radius ** 2\n",
        "\n",
        "class Rectangle(shape):\n",
        "  def __init__(self,width,height):\n",
        "    self.width = width\n",
        "    self.height = height\n",
        "\n",
        "  def area(self):\n",
        "    return self.width * self.height\n",
        "\n",
        "circle = Circle(radius=5)\n",
        "rectangle = Rectangle(width=4, height=6)\n",
        "\n",
        "print(f\"Area of Circle: {circle.area():.2f}\")\n",
        "print(f\"Area of Rectangle: {rectangle.area():.2f}\")\n"
      ],
      "metadata": {
        "colab": {
          "base_uri": "https://localhost:8080/"
        },
        "id": "LhYNQoRLIyRa",
        "outputId": "1f19bbea-d9cc-4839-9818-46d4584353a2"
      },
      "execution_count": 48,
      "outputs": [
        {
          "output_type": "stream",
          "name": "stdout",
          "text": [
            "Area of Circle: 78.54\n",
            "Area of Rectangle: 24.00\n"
          ]
        }
      ]
    },
    {
      "cell_type": "code",
      "source": [
        "# Que 9. Demonstrate polymorphism by creating a function that can work with different shape objects to calculate and print their areas.\n",
        "\n",
        "from abc import ABC, abstractmethod\n",
        "import math\n",
        "\n",
        "class Shape(ABC):\n",
        "  @abstractmethod\n",
        "  def area(self):\n",
        "    pass\n",
        "\n",
        "class Circle(shape):\n",
        "  def __init__(self, radius):\n",
        "    self.radius = radius\n",
        "\n",
        "  def area(self):\n",
        "    return math.pi * self.radius ** 2\n",
        "\n",
        "class Rectangle(shape):\n",
        "  def __init__(self, width, height):\n",
        "    self.width = width\n",
        "    self.height = height\n",
        "\n",
        "  def area(self):\n",
        "    return self.width * self.height\n",
        "\n",
        "# Polymorphic function to print area\n",
        "\n",
        "def print_area(shape):\n",
        "  print(f\"Area of the shape is : {shape.area():.2f}\")\n",
        "\n",
        "circle = Circle(5)\n",
        "rectangle = Rectangle(4,6)\n",
        "\n",
        "print_area(circle)\n",
        "print_area(rectangle)\n"
      ],
      "metadata": {
        "colab": {
          "base_uri": "https://localhost:8080/"
        },
        "id": "OhqHEqKNP4hA",
        "outputId": "3f5846e3-8d23-4bbf-b989-924b1b19f359"
      },
      "execution_count": 59,
      "outputs": [
        {
          "output_type": "stream",
          "name": "stdout",
          "text": [
            "Area of the shape is : 78.54\n",
            "Area of the shape is : 24.00\n"
          ]
        }
      ]
    },
    {
      "cell_type": "code",
      "source": [
        "# Que 10. Implement encapsulation in a `BankAccount` class with private attributes for `balance` and `account_number`. Include methods for deposit, withdrawal, and balance inquiry.\n",
        "\n",
        "class BankAccount:\n",
        "    def __init__(self, account_number, initial_balance=0):\n",
        "        self.__account_number = account_number  # Private attribute\n",
        "        self.__balance = initial_balance  # Private attribute\n",
        "\n",
        "    def deposit(self, amount):\n",
        "        \"\"\"Deposit money into the account.\"\"\"\n",
        "        if amount > 0:\n",
        "            self.__balance += amount\n",
        "            print(f\"Deposited: ${amount:.2f}. New balance: ${self.__balance:.2f}\")\n",
        "        else:\n",
        "            print(\"Deposit amount must be positive.\")\n",
        "\n",
        "    def withdraw(self, amount):\n",
        "        \"\"\"Withdraw money from the account.\"\"\"\n",
        "        if amount > 0:\n",
        "            if amount <= self.__balance:\n",
        "                self.__balance -= amount\n",
        "                print(f\"Withdrew: ${amount:.2f}. New balance: ${self.__balance:.2f}\")\n",
        "            else:\n",
        "                print(\"Insufficient funds.\")\n",
        "        else:\n",
        "            print(\"Withdrawal amount must be positive.\")\n",
        "\n",
        "    def get_balance(self):\n",
        "        \"\"\"Return the current balance.\"\"\"\n",
        "        return self.__balance\n",
        "\n",
        "    def get_account_number(self):\n",
        "        \"\"\"Return the account number.\"\"\"\n",
        "        return self.__account_number\n",
        "\n",
        "\n",
        "if __name__ == \"__main__\":\n",
        "    # Create a bank account with an initial balance\n",
        "    account = BankAccount(account_number=\"123456789\", initial_balance=1000)\n",
        "\n",
        "    # Deposit money\n",
        "    account.deposit(500)\n",
        "\n",
        "    # Withdraw money\n",
        "    account.withdraw(200)\n",
        "\n",
        "    # Check balance\n",
        "    print(f\"Current Balance: ${account.get_balance():.2f}\")\n",
        "\n",
        "    # Attempt to withdraw more than the balance\n",
        "    account.withdraw(1500)\n",
        "\n"
      ],
      "metadata": {
        "colab": {
          "base_uri": "https://localhost:8080/"
        },
        "id": "f6-wUyqJa0ZU",
        "outputId": "43350373-988b-4346-97a5-d12ffdc5b2f9"
      },
      "execution_count": 64,
      "outputs": [
        {
          "output_type": "stream",
          "name": "stdout",
          "text": [
            "Deposited: $500.00. New balance: $1500.00\n",
            "Withdrew: $200.00. New balance: $1300.00\n",
            "Current Balance: $1300.00\n",
            "Insufficient funds.\n"
          ]
        }
      ]
    },
    {
      "cell_type": "code",
      "source": [
        "# Que 11. Write a class that overrides the `__str__` and `__add__` magic methods. What will these methods allow you to do?\n",
        "\n",
        "\n",
        "class Point():\n",
        "  def __init__(self,a,b):\n",
        "    self.a = a\n",
        "    self.b = b\n",
        "  def __str__(self):\n",
        "    return f\"point ({self.a},{self.b})\"\n",
        "  def __add__(self,other):\n",
        "    if isinstance(other,Point):\n",
        "      return Point(self.a + other.a,self.b + other.b)\n",
        "    return NotImplemented\n",
        "\n",
        "if __name__ == \"__main__\":\n",
        "    p1 = Point(2, 3)\n",
        "    p2 = Point(5, 7)\n",
        "\n",
        "    # Using __str__\n",
        "    print(p1)\n",
        "    print(p2)\n",
        "    print(p1 + p2)"
      ],
      "metadata": {
        "colab": {
          "base_uri": "https://localhost:8080/"
        },
        "id": "GmifcDAvmCE_",
        "outputId": "c8c6d08e-8b6b-47b9-a996-44a34724ab1b"
      },
      "execution_count": 66,
      "outputs": [
        {
          "output_type": "stream",
          "name": "stdout",
          "text": [
            "point (2,3)\n",
            "point (5,7)\n",
            "point (7,10)\n"
          ]
        }
      ]
    },
    {
      "cell_type": "code",
      "source": [
        "# Que 12. Create a decorator that measures and prints the execution time of a function.\n",
        "\n",
        "import time\n",
        "from functools import wraps\n",
        "\n",
        "def measure_execution_time(func):\n",
        "    \"\"\"Decorator to measure the execution time of a function.\"\"\"\n",
        "    @wraps(func)       # Preserve the original function's metadata\n",
        "    def wrapper(*args, **kwargs):\n",
        "        start_time = time.perf_counter()    # Start time\n",
        "        result = func(*args, **kwargs)      # Call the original function\n",
        "        end_time = time.perf_counter()      # End time\n",
        "        execution_time = end_time - start_time  # Calculate execution time\n",
        "        print(f\"Function '{func.__name__}' took {execution_time:.4f} seconds to execute\")\n",
        "        return result  # Return the result of the original function\n",
        "    return wrapper\n",
        "\n",
        "# Example usage of the decorator\n",
        "@measure_execution_time\n",
        "def calculate_sum(n):\n",
        "    \"\"\"Calculate the sum of numbers from 1 to n.\"\"\"\n",
        "    total = sum(range(1, n + 1))\n",
        "    return total\n",
        "\n",
        "if __name__ == \"__main__\":\n",
        "    result = calculate_sum(1000000)\n",
        "    print(\"Result:\", result)  # Output: Result: 500000500000\n"
      ],
      "metadata": {
        "colab": {
          "base_uri": "https://localhost:8080/"
        },
        "id": "TuXI7-cvqtMj",
        "outputId": "00116488-cf3f-4cb5-f699-ec00aabcf2ea"
      },
      "execution_count": 67,
      "outputs": [
        {
          "output_type": "stream",
          "name": "stdout",
          "text": [
            "Function 'calculate_sum' took 0.0211 seconds to execute\n",
            "Result: 500000500000\n"
          ]
        }
      ]
    },
    {
      "cell_type": "code",
      "source": [
        "# Que 13. Explain the concept of the Diamond Problem in multiple inheritance. How does Python resolve it?\n",
        "\n",
        "# The Diamond Problem is a common issue encountered in multiple inheritance scenarios in object-oriented programming, particularly in Python. It arises when a class inherits from two or more classes that have a common superclass. This can create ambiguity about which superclass method should be called when a method is invoked on the derived class.\n",
        "\n",
        "# Python resolves the Diamond Problem using a mechanism called Method Resolution Order (MRO). The MRO defines the order in which classes are searched when looking for a method. Python uses an algorithm known as C3 linearization to determine this order.\n",
        "\n",
        "class A:\n",
        "    def display(self):\n",
        "        print(\"Display method from class A\")\n",
        "\n",
        "class B(A):\n",
        "    def display(self):\n",
        "        print(\"Display method from class B\")\n",
        "\n",
        "class C(A):\n",
        "    def display(self):\n",
        "        print(\"Display method from class C\")\n",
        "\n",
        "class D(B, C):\n",
        "    pass\n",
        "\n",
        "# Create an instance of D\n",
        "d = D()\n",
        "d.display()\n",
        "# Check the Method Resolution Order\n",
        "print(D.mro())"
      ],
      "metadata": {
        "colab": {
          "base_uri": "https://localhost:8080/"
        },
        "id": "FAGG9gvqs6VJ",
        "outputId": "6200d0b9-1dbe-49fd-e201-588e9eda86f9"
      },
      "execution_count": 68,
      "outputs": [
        {
          "output_type": "stream",
          "name": "stdout",
          "text": [
            "Display method from class B\n",
            "[<class '__main__.D'>, <class '__main__.B'>, <class '__main__.C'>, <class '__main__.A'>, <class 'object'>]\n"
          ]
        }
      ]
    },
    {
      "cell_type": "code",
      "source": [
        "# Que 14. Write a class method that keeps track of the number of instances created from a class.\n",
        "\n",
        "class InstanceCounter:\n",
        "    # Class variable to keep track of the number of instances\n",
        "    instance_count = 0\n",
        "\n",
        "    def __init__(self):\n",
        "        # Increment the instance count each time a new instance is created\n",
        "        InstanceCounter.instance_count += 1\n",
        "\n",
        "    @classmethod\n",
        "    def get_instance_count(cls):\n",
        "        \"\"\"Return the current count of instances.\"\"\"\n",
        "        return cls.instance_count\n",
        "\n",
        "\n",
        "if __name__ == \"__main__\":\n",
        "    # Creating instances of InstanceCounter\n",
        "    obj1 = InstanceCounter()\n",
        "    obj2 = InstanceCounter()\n",
        "    obj3 = InstanceCounter()\n",
        "\n",
        "    # Get the count of instances created\n",
        "    print(\"Total number of instances created:\", InstanceCounter.get_instance_count())\n",
        "\n"
      ],
      "metadata": {
        "colab": {
          "base_uri": "https://localhost:8080/"
        },
        "id": "JcYjISW_ue97",
        "outputId": "ce454043-f219-4ff3-d5a0-18a6863504d0"
      },
      "execution_count": 69,
      "outputs": [
        {
          "output_type": "stream",
          "name": "stdout",
          "text": [
            "Total number of instances created: 3\n"
          ]
        }
      ]
    },
    {
      "cell_type": "code",
      "source": [
        "# Que 15. Implement a static method in a class that checks if a given year is a leap year.\n",
        "\n",
        "class YearUtils:\n",
        "    @staticmethod\n",
        "    def is_leap_year(year):\n",
        "        \"\"\"Check if the given year is a leap year.\"\"\"\n",
        "        if (year % 4 == 0 and year % 100 != 0) or (year % 400 == 0):\n",
        "            return True\n",
        "        return False\n",
        "\n",
        "\n",
        "if __name__ == \"__main__\":\n",
        "    years_to_check = [2000, 2001, 2004, 1900, 2020, 2023]\n",
        "\n",
        "    for year in years_to_check:\n",
        "        if YearUtils.is_leap_year(year):\n",
        "            print(f\"{year} is a leap year.\")\n",
        "        else:\n",
        "            print(f\"{year} is not a leap year.\")\n"
      ],
      "metadata": {
        "colab": {
          "base_uri": "https://localhost:8080/"
        },
        "id": "Kyc5YbXYu3xk",
        "outputId": "11bdf0ed-92b5-43d4-c6fe-512d86ff8677"
      },
      "execution_count": 70,
      "outputs": [
        {
          "output_type": "stream",
          "name": "stdout",
          "text": [
            "2000 is a leap year.\n",
            "2001 is not a leap year.\n",
            "2004 is a leap year.\n",
            "1900 is not a leap year.\n",
            "2020 is a leap year.\n",
            "2023 is not a leap year.\n"
          ]
        }
      ]
    }
  ]
}