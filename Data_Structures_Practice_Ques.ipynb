{
  "nbformat": 4,
  "nbformat_minor": 0,
  "metadata": {
    "colab": {
      "provenance": []
    },
    "kernelspec": {
      "name": "python3",
      "display_name": "Python 3"
    },
    "language_info": {
      "name": "python"
    }
  },
  "cells": [
    {
      "cell_type": "code",
      "execution_count": 1,
      "metadata": {
        "id": "IqYdzBs2VJBh",
        "colab": {
          "base_uri": "https://localhost:8080/"
        },
        "outputId": "bb215b08-d496-4d02-82ae-1fddc5df63f1"
      },
      "outputs": [
        {
          "output_type": "stream",
          "name": "stdout",
          "text": [
            "!!dlroW olleH\n"
          ]
        }
      ],
      "source": [
        "# 1 . Write a code to reverse a string\n",
        "\n",
        "def reverse_string(s):\n",
        "  return s[::-1]\n",
        "\n",
        "input_string = \"Hello World!!\"\n",
        "reversed_string= reverse_string(input_string)\n",
        "print(reversed_string)\n"
      ]
    },
    {
      "cell_type": "code",
      "source": [
        "# 2 Write a code to count the number of vowels in a string\n",
        "\n",
        "def count_vowels(s):\n",
        "  vowels = \"aeiouAEIOU\"\n",
        "  count = 0\n",
        "  for char in s:\n",
        "    if char in vowels:\n",
        "      count += 1\n",
        "  return count\n",
        "\n",
        "input_string = \"Hello World!\"\n",
        "vowel_count = count_vowels(input_string)\n",
        "print(f\"The number of vowels in the string is : {vowel_count}\")"
      ],
      "metadata": {
        "id": "SjalwkI6Vlvc",
        "colab": {
          "base_uri": "https://localhost:8080/"
        },
        "outputId": "4ffde35a-25ea-4f44-b517-c7f6c437e75f"
      },
      "execution_count": 2,
      "outputs": [
        {
          "output_type": "stream",
          "name": "stdout",
          "text": [
            "The number of vowels in the string is : 3\n"
          ]
        }
      ]
    },
    {
      "cell_type": "code",
      "source": [
        "# 3 Write a code to check if a given string is a palindrome or not\n",
        "\n",
        "def is_palindrome(s):\n",
        "    cleaned_string = ''.join(s.split()).lower()\n",
        "    return cleaned_string == cleaned_string[::-1]\n",
        "\n",
        "input_string = \"A man a plan a canel Panama\"\n",
        "if is_palindrome(input_string):\n",
        "  print(f'\"{input_string}\"is a palidrom')\n",
        "else:\n",
        "  print(f'\"{input_string}\"is not a palidrom')\n",
        ""
      ],
      "metadata": {
        "id": "O21XpGtVVoUe",
        "colab": {
          "base_uri": "https://localhost:8080/"
        },
        "outputId": "5ff70afa-3d29-464f-d76c-ca935d6b6b41"
      },
      "execution_count": 3,
      "outputs": [
        {
          "output_type": "stream",
          "name": "stdout",
          "text": [
            "\"A man a plan a canel Panama\"is not a palidrom\n"
          ]
        }
      ]
    },
    {
      "cell_type": "code",
      "source": [
        "# 4 Write a code to check if two given strings are anagrams of each other\n",
        "\n",
        "def are_anagrams(str1, str2):\n",
        "    # Remove spaces and convert to lowercase\n",
        "    str1_cleaned = ''.join(str1.split()).lower()\n",
        "    str2_cleaned = ''.join(str2.split()).lower()\n",
        "\n",
        "    # Sort the characters of both strings and compare\n",
        "    return sorted(str1_cleaned) == sorted(str2_cleaned)\n",
        "\n",
        "# Example usage\n",
        "string1 = \"Listen\"\n",
        "string2 = \"Silent\"\n",
        "\n",
        "if are_anagrams(string1, string2):\n",
        "    print(f'\"{string1}\" and \"{string2}\" are anagrams.')\n",
        "else:\n",
        "    print(f'\"{string1}\" and \"{string2}\" are not anagrams.')\n"
      ],
      "metadata": {
        "id": "zN3kbEYkVqSu",
        "colab": {
          "base_uri": "https://localhost:8080/"
        },
        "outputId": "ef2d7185-cb70-421d-bfc6-cacb56a45f9e"
      },
      "execution_count": 11,
      "outputs": [
        {
          "output_type": "stream",
          "name": "stdout",
          "text": [
            "\"Listen\" and \"Silent\" are anagrams.\n"
          ]
        }
      ]
    },
    {
      "cell_type": "code",
      "source": [
        "# 5 Write a code to find all occurrences of a given substring within another string\n",
        "def find_all_occurrences(main_string, substring):\n",
        "    occurrences = []\n",
        "    start = 0\n",
        "\n",
        "    while True:\n",
        "        # Find the next occurrence of the substring\n",
        "        start = main_string.find(substring, start)\n",
        "\n",
        "        # If no more occurrences are found, break the loop\n",
        "        if start == -1:\n",
        "            break\n",
        "\n",
        "        # Append the index to the occurrences list\n",
        "        occurrences.append(start)\n",
        "\n",
        "        # Move to the next character after the current found index\n",
        "        start += len(substring)  # Move past the last found occurrence\n",
        "\n",
        "    return occurrences\n",
        "\n",
        "# Example usage\n",
        "main_string = \"This is a test string. This test is only a test.\"\n",
        "substring = \"test\"\n",
        "indices = find_all_occurrences(main_string, substring)\n",
        "\n",
        "print(f'All occurrences of \"{substring}\" found at indices: {indices}')\n"
      ],
      "metadata": {
        "id": "7OYvE0ykVr4n",
        "colab": {
          "base_uri": "https://localhost:8080/"
        },
        "outputId": "716ac594-fdd9-46f8-a6ad-a7d6fc5f2aff"
      },
      "execution_count": 12,
      "outputs": [
        {
          "output_type": "stream",
          "name": "stdout",
          "text": [
            "All occurrences of \"test\" found at indices: [10, 28, 43]\n"
          ]
        }
      ]
    },
    {
      "cell_type": "code",
      "source": [
        "# 6 Write a code to perform basic string compression using the counts of repeated character\n",
        "\n",
        "def compress_string(s):\n",
        "    if not s:\n",
        "        return \"\"\n",
        "\n",
        "    compressed = []\n",
        "    count = 1\n",
        "\n",
        "    # Iterate through the string\n",
        "    for i in range(1, len(s)):\n",
        "        if s[i] == s[i - 1]:\n",
        "            count += 1  # Increment count if the same character is found\n",
        "        else:\n",
        "            # Append the previous character and its count to the result\n",
        "            compressed.append(s[i - 1] + str(count))\n",
        "            count = 1  # Reset count for the new character\n",
        "\n",
        "    # Append the last character and its count\n",
        "    compressed.append(s[-1] + str(count))\n",
        "\n",
        "    # Join the list into a single string\n",
        "    return ''.join(compressed)\n",
        "\n",
        "# Example usage\n",
        "input_string = \"aaabbc\"\n",
        "compressed_string = compress_string(input_string)\n",
        "print(f'Compressed string: {compressed_string}')  # Output: a3b2c1\n",
        "\n"
      ],
      "metadata": {
        "id": "UhyxD0l1VtMj",
        "colab": {
          "base_uri": "https://localhost:8080/"
        },
        "outputId": "33338bcd-6950-4873-fed4-d218ff2aa21d"
      },
      "execution_count": 13,
      "outputs": [
        {
          "output_type": "stream",
          "name": "stdout",
          "text": [
            "Compressed string: a3b2c1\n"
          ]
        }
      ]
    },
    {
      "cell_type": "code",
      "source": [
        "# 7 Write a code to determine if a string has all unique characters\n",
        "\n",
        "def has_all_unique_characters(s):\n",
        "    # Use a set to track seen characters\n",
        "    seen_characters = set()\n",
        "\n",
        "    for char in s:\n",
        "        # If the character is already in the set, it's not unique\n",
        "        if char in seen_characters:\n",
        "            return False\n",
        "        # Add the character to the set\n",
        "        seen_characters.add(char)\n",
        "\n",
        "    return True\n",
        "\n",
        "# Example usage\n",
        "input_string = \"abcdefg\"\n",
        "if has_all_unique_characters(input_string):\n",
        "    print(f'The string \"{input_string}\" has all unique characters.')\n",
        "else:\n",
        "    print(f'The string \"{input_string}\" does not have all unique characters.')\n"
      ],
      "metadata": {
        "id": "VMvegn8MVuT9",
        "colab": {
          "base_uri": "https://localhost:8080/"
        },
        "outputId": "6b599f3a-ee8a-4821-b38c-e0b6ba5016a3"
      },
      "execution_count": 14,
      "outputs": [
        {
          "output_type": "stream",
          "name": "stdout",
          "text": [
            "The string \"abcdefg\" has all unique characters.\n"
          ]
        }
      ]
    },
    {
      "cell_type": "code",
      "source": [
        "# 8 Write a code to convert a given string to uppercase or lowercase\n",
        "\n",
        "def convert_to_uppercase(s):\n",
        "    return s.upper()\n",
        "\n",
        "def convert_to_lowercase(s):\n",
        "    return s.lower()\n",
        "\n",
        "# Example usage\n",
        "input_string = \"Hello, World!\"\n",
        "\n",
        "# Convert to uppercase\n",
        "uppercase_string = convert_to_uppercase(input_string)\n",
        "print(f'Uppercase: {uppercase_string}')  # Output: HELLO, WORLD!\n",
        "\n",
        "# Convert to lowercase\n",
        "lowercase_string = convert_to_lowercase(input_string)\n",
        "print(f'Lowercase: {lowercase_string}')  # Output: hello, world!\n",
        "\n"
      ],
      "metadata": {
        "id": "AQneeRhGVv9d",
        "colab": {
          "base_uri": "https://localhost:8080/"
        },
        "outputId": "663e7730-ebab-4f05-ef53-c4bfe768326b"
      },
      "execution_count": 15,
      "outputs": [
        {
          "output_type": "stream",
          "name": "stdout",
          "text": [
            "Uppercase: HELLO, WORLD!\n",
            "Lowercase: hello, world!\n"
          ]
        }
      ]
    },
    {
      "cell_type": "code",
      "source": [
        "# 9 Write a code to count the number of words in a string\n",
        "\n",
        "def count_words(s):\n",
        "    # Split the string into words using whitespace as the delimiter\n",
        "    words = s.split()\n",
        "\n",
        "    # Return the number of words\n",
        "    return len(words)\n",
        "\n",
        "# Example usage\n",
        "input_string = \"This is a sample string with several words.\"\n",
        "word_count = count_words(input_string)\n",
        "print(f'The number of words in the string is: {word_count}')  # Output: 8\n"
      ],
      "metadata": {
        "id": "UE2gufkGVw_9",
        "colab": {
          "base_uri": "https://localhost:8080/"
        },
        "outputId": "4b3cffd9-4fcf-437a-cdb6-77ee36fd79c8"
      },
      "execution_count": 16,
      "outputs": [
        {
          "output_type": "stream",
          "name": "stdout",
          "text": [
            "The number of words in the string is: 8\n"
          ]
        }
      ]
    },
    {
      "cell_type": "code",
      "source": [
        "# 10 Write a code to concatenate two strings without using the + operator\n",
        "\n",
        "def concatenate_strings(str1, str2):\n",
        "    return ''.join([str1, str2])\n",
        "\n",
        "# Example usage\n",
        "string1 = \"Hello\"\n",
        "string2 = \" World\"\n",
        "result = concatenate_strings(string1, string2)\n",
        "print(f'Concatenated String: {result}')  # Output: HelloWorld\n"
      ],
      "metadata": {
        "id": "8jSWi3qeVyVV",
        "colab": {
          "base_uri": "https://localhost:8080/"
        },
        "outputId": "5634bdd9-5998-4e3e-d9cc-d6fa2a1ceabc"
      },
      "execution_count": 18,
      "outputs": [
        {
          "output_type": "stream",
          "name": "stdout",
          "text": [
            "Concatenated String: Hello World\n"
          ]
        }
      ]
    },
    {
      "cell_type": "code",
      "source": [
        "# 11 Write a code to remove all occurrences of a specific element from a list\n",
        "\n",
        "def remove_occurrences(input_list, element_to_remove):\n",
        "    # Use a list comprehension to create a new list without the specified element\n",
        "    return [element for element in input_list if element != element_to_remove]\n",
        "\n",
        "# Example usage\n",
        "my_list = [1, 2, 3, 4, 2, 5, 2, 6]\n",
        "element = 2\n",
        "result_list = remove_occurrences(my_list, element)\n",
        "\n",
        "print(f'Original List: {my_list}')           # Output: Original List: [1, 2, 3, 4, 2, 5, 2, 6]\n",
        "print(f'List after removing {element}: {result_list}')  # Output: List afte\n"
      ],
      "metadata": {
        "id": "Rnqa_0AJVzUY",
        "colab": {
          "base_uri": "https://localhost:8080/"
        },
        "outputId": "c815e3ce-c3e0-462a-e8af-bb89b12455e0"
      },
      "execution_count": 19,
      "outputs": [
        {
          "output_type": "stream",
          "name": "stdout",
          "text": [
            "Original List: [1, 2, 3, 4, 2, 5, 2, 6]\n",
            "List after removing 2: [1, 3, 4, 5, 6]\n"
          ]
        }
      ]
    },
    {
      "cell_type": "code",
      "source": [
        "# 12 Implement a code to find the second largest number in a given list of integers\n",
        "\n",
        "def find_second_largest(numbers):\n",
        "    # Remove duplicates by converting the list to a set\n",
        "    unique_numbers = set(numbers)\n",
        "\n",
        "    # Check if there are at least two unique numbers\n",
        "    if len(unique_numbers) < 2:\n",
        "        return None  # Return None if there is no second largest number\n",
        "\n",
        "    # Remove the largest number\n",
        "    unique_numbers.remove(max(unique_numbers))\n",
        "\n",
        "    # The second largest number is now the maximum of the remaining numbers\n",
        "    return max(unique_numbers)\n",
        "\n",
        "# Example usage\n",
        "input_list = [4, 1, 3, 4, 2, 5, 5]\n",
        "second_largest = find_second_largest(input_list)\n",
        "\n",
        "if second_largest is not None:\n",
        "    print(f'The second largest number in the list is: {second_largest}')  # Output: 4\n",
        "else:\n",
        "    print('There is no second largest number in the list.')\n"
      ],
      "metadata": {
        "id": "XtAuZxwcV0Qj",
        "colab": {
          "base_uri": "https://localhost:8080/"
        },
        "outputId": "1e9e9de5-3c65-41e4-becf-5cea35833e20"
      },
      "execution_count": 21,
      "outputs": [
        {
          "output_type": "stream",
          "name": "stdout",
          "text": [
            "The second largest number in the list is: 4\n"
          ]
        }
      ]
    },
    {
      "cell_type": "code",
      "source": [
        "# 13  Create a code to count the occurrences of each element in a list and return a dictionary with elements as keys and their counts as values\n",
        "\n",
        "def count_occurrences(input_list):\n",
        "    # Initialize an empty dictionary to store counts\n",
        "    occurrences = {}\n",
        "\n",
        "    # Iterate through each element in the list\n",
        "    for element in input_list:\n",
        "        if element in occurrences:\n",
        "            occurrences[element] += 1  # Increment count if element already exists\n",
        "        else:\n",
        "            occurrences[element] = 1     # Initialize count for new element\n",
        "\n",
        "    return occurrences\n",
        "\n",
        "# Example usage\n",
        "my_list = [1, 2, 2, 3, 4, 3, 3, 5]\n",
        "occurrence_count = count_occurrences(my_list)\n",
        "\n",
        "print(f'Occurrences of each element: {occurrence_count}')\n"
      ],
      "metadata": {
        "id": "H0va2BHjV09t",
        "colab": {
          "base_uri": "https://localhost:8080/"
        },
        "outputId": "6b11e175-48af-41f3-ae6e-3fca90f2725f"
      },
      "execution_count": 22,
      "outputs": [
        {
          "output_type": "stream",
          "name": "stdout",
          "text": [
            "Occurrences of each element: {1: 1, 2: 2, 3: 3, 4: 1, 5: 1}\n"
          ]
        }
      ]
    },
    {
      "cell_type": "code",
      "source": [
        "# 14  Write a code to reverse a list in-place without using any built-in reverse function\n",
        "\n",
        "def reverse_list_in_place(lst):\n",
        "    left = 0               # Start pointer\n",
        "    right = len(lst) - 1  # End pointer\n",
        "\n",
        "    while left < right:\n",
        "        # Swap elements at left and right pointers\n",
        "        lst[left], lst[right] = lst[right], lst[left]\n",
        "\n",
        "        # Move the pointers towards the center\n",
        "        left += 1\n",
        "        right -= 1\n",
        "\n",
        "# Example usage\n",
        "my_list = [1, 2, 3, 4, 5]\n",
        "print(f'Original List: {my_list}')\n",
        "\n",
        "reverse_list_in_place(my_list)\n",
        "print(f'Reversed List: {my_list}')\n"
      ],
      "metadata": {
        "id": "TqxGpOtCV3oG",
        "colab": {
          "base_uri": "https://localhost:8080/"
        },
        "outputId": "ec6c026a-2237-48ee-f0fc-9d824e77479d"
      },
      "execution_count": 23,
      "outputs": [
        {
          "output_type": "stream",
          "name": "stdout",
          "text": [
            "Original List: [1, 2, 3, 4, 5]\n",
            "Reversed List: [5, 4, 3, 2, 1]\n"
          ]
        }
      ]
    },
    {
      "cell_type": "code",
      "source": [
        "# 15 Implement a code to find and remove duplicates from a list while preserving the original order of elements\n",
        "\n",
        "def remove_duplicates(input_list):\n",
        "    seen = set()          # Set to track seen elements\n",
        "    result = []           # List to store the result without duplicates\n",
        "\n",
        "    for element in input_list:\n",
        "        if element not in seen:\n",
        "            seen.add(element)  # Add the element to the set\n",
        "            result.append(element)  # Append it to the result list\n",
        "\n",
        "    return result\n",
        "\n",
        "# Example usage\n",
        "my_list = [1, 2, 3, 2, 4, 3, 5, 1]\n",
        "result_list = remove_duplicates(my_list)\n",
        "\n",
        "print(f'Original List: {my_list}')        # Output: Original List: [1, 2, 3, 2, 4, 3, 5, 1]\n",
        "print(f'List after removing duplicates: {result_list}')  # Output: List after removing duplicates: [1, 2, 3, 4, 5]\n"
      ],
      "metadata": {
        "id": "udK4rU1MV4f3",
        "colab": {
          "base_uri": "https://localhost:8080/"
        },
        "outputId": "690dfdaf-3e65-477d-9a0b-477bbdb0cac7"
      },
      "execution_count": 24,
      "outputs": [
        {
          "output_type": "stream",
          "name": "stdout",
          "text": [
            "Original List: [1, 2, 3, 2, 4, 3, 5, 1]\n",
            "List after removing duplicates: [1, 2, 3, 4, 5]\n"
          ]
        }
      ]
    },
    {
      "cell_type": "code",
      "source": [
        "# 16 Create a code to check if a given list is sorted (either in ascending or descending order) or not\n",
        "\n",
        "def is_sorted(lst):\n",
        "    # Check for ascending order\n",
        "    ascending = all(lst[i] <= lst[i + 1] for i in range(len(lst) - 1))\n",
        "\n",
        "    # Check for descending order\n",
        "    descending = all(lst[i] >= lst[i + 1] for i in range(len(lst) - 1))\n",
        "\n",
        "    return ascending or descending\n",
        "\n",
        "# Example usage\n",
        "list1 = [1, 2, 3, 4, 5]      # Ascending\n",
        "list2 = [5, 4, 3, 2, 1]      # Descending\n",
        "list3 = [1, 3, 2, 4, 5]      # Not sorted\n",
        "\n",
        "print(f'List1 is sorted: {is_sorted(list1)}')  # Output: True\n",
        "print(f'List2 is sorted: {is_sorted(list2)}')  # Output: True\n",
        "print(f'List3 is sorted: {is_sorted(list3)}')  # Output: False\n"
      ],
      "metadata": {
        "id": "m_jV2A0DV5Wt",
        "colab": {
          "base_uri": "https://localhost:8080/"
        },
        "outputId": "e3a3b0bb-7992-4d85-afd8-e7e9e103c03d"
      },
      "execution_count": 25,
      "outputs": [
        {
          "output_type": "stream",
          "name": "stdout",
          "text": [
            "List1 is sorted: True\n",
            "List2 is sorted: True\n",
            "List3 is sorted: False\n"
          ]
        }
      ]
    },
    {
      "cell_type": "code",
      "source": [
        "# 17  Write a code to merge two sorted lists into a single sorted list\n",
        "\n",
        "def merge_sorted_lists(list1, list2):\n",
        "    merged_list = []\n",
        "    i, j = 0, 0  # Pointers for list1 and list2\n",
        "\n",
        "    # Iterate through both lists until we reach the end of one\n",
        "    while i < len(list1) and j < len(list2):\n",
        "        if list1[i] < list2[j]:\n",
        "            merged_list.append(list1[i])\n",
        "            i += 1\n",
        "        else:\n",
        "            merged_list.append(list2[j])\n",
        "            j += 1\n",
        "\n",
        "    # If there are remaining elements in list1, add them\n",
        "    while i < len(list1):\n",
        "        merged_list.append(list1[i])\n",
        "        i += 1\n",
        "\n",
        "    # If there are remaining elements in list2, add them\n",
        "    while j < len(list2):\n",
        "        merged_list.append(list2[j])\n",
        "        j += 1\n",
        "\n",
        "    return merged_list\n",
        "\n",
        "# Example usage\n",
        "sorted_list1 = [1, 3, 5, 7]\n",
        "sorted_list2 = [2, 4, 6, 8]\n",
        "merged_result = merge_sorted_lists(sorted_list1, sorted_list2)\n",
        "\n",
        "print(f'Merged Sorted List: {merged_result}')  # Output: [1, 2, 3, 4, 5, 6, 7, 8]\n"
      ],
      "metadata": {
        "id": "rnqo4Zp1V6PW",
        "colab": {
          "base_uri": "https://localhost:8080/"
        },
        "outputId": "891d4aa1-510e-453e-f7b3-6c2b8d5b8ae7"
      },
      "execution_count": 26,
      "outputs": [
        {
          "output_type": "stream",
          "name": "stdout",
          "text": [
            "Merged Sorted List: [1, 2, 3, 4, 5, 6, 7, 8]\n"
          ]
        }
      ]
    },
    {
      "cell_type": "code",
      "source": [
        "# 18  Implement a code to find the intersection of two given lists\n",
        "\n",
        "def find_intersection(list1, list2):\n",
        "    # Convert both lists to sets to find the intersection\n",
        "    set1 = set(list1)\n",
        "    set2 = set(list2)\n",
        "\n",
        "    # Use the intersection method or '&' operator to find common elements\n",
        "    intersection = set1.intersection(set2)\n",
        "\n",
        "    # Convert the result back to a list (if needed)\n",
        "    return list(intersection)\n",
        "\n",
        "# Example usage\n",
        "list_a = [1, 2, 3, 4, 5]\n",
        "list_b = [4, 5, 6, 7, 8]\n",
        "intersection_result = find_intersection(list_a, list_b)\n",
        "\n",
        "print(f'Intersection of {list_a} and {list_b}: {intersection_result}')  # Output: [4, 5]\n"
      ],
      "metadata": {
        "id": "9Z37GQ_oV7hX",
        "colab": {
          "base_uri": "https://localhost:8080/"
        },
        "outputId": "deb8ea17-0692-4862-e94b-b43e53e3946a"
      },
      "execution_count": 27,
      "outputs": [
        {
          "output_type": "stream",
          "name": "stdout",
          "text": [
            "Intersection of [1, 2, 3, 4, 5] and [4, 5, 6, 7, 8]: [4, 5]\n"
          ]
        }
      ]
    },
    {
      "cell_type": "code",
      "source": [
        "# 19  Create a code to find the union of two lists without duplicates\n",
        "\n",
        "def find_union(list1, list2):\n",
        "    # Use a set to store unique elements from both lists\n",
        "    union_set = set(list1) | set(list2)  # Union operation\n",
        "\n",
        "    # Convert the set back to a list (if needed)\n",
        "    return list(union_set)\n",
        "\n",
        "# Example usage\n",
        "list_a = [1, 2, 3, 4, 5]\n",
        "list_b = [4, 5, 6, 7, 8]\n",
        "union_result = find_union(list_a, list_b)\n",
        "\n",
        "print(f'Union of {list_a} and {list_b}: {union_result}')  # Output: [1, 2, 3, 4, 5, 6, 7, 8]\n"
      ],
      "metadata": {
        "id": "Zk9N0GepV8oo",
        "colab": {
          "base_uri": "https://localhost:8080/"
        },
        "outputId": "79a10a50-d8ab-448d-dc1a-6889e1b483d0"
      },
      "execution_count": 28,
      "outputs": [
        {
          "output_type": "stream",
          "name": "stdout",
          "text": [
            "Union of [1, 2, 3, 4, 5] and [4, 5, 6, 7, 8]: [1, 2, 3, 4, 5, 6, 7, 8]\n"
          ]
        }
      ]
    },
    {
      "cell_type": "code",
      "source": [
        "# 20 Write a code to shuffle a given list randomly without using any built-in shuffle functions\n",
        "\n",
        "import random\n",
        "\n",
        "def shuffle_list(lst):\n",
        "    # Get the length of the list\n",
        "    n = len(lst)\n",
        "\n",
        "    # Fisher-Yates shuffle algorithm\n",
        "    for i in range(n - 1, 0, -1):\n",
        "        # Generate a random index from 0 to i\n",
        "        j = random.randint(0, i)\n",
        "\n",
        "        # Swap elements at indices i and j\n",
        "        lst[i], lst[j] = lst[j], lst[i]\n",
        "\n",
        "# Example usage\n",
        "my_list = [1, 2, 3, 4, 5]\n",
        "print(f'Original List: {my_list}')\n",
        "\n",
        "shuffle_list(my_list)\n",
        "print(f'Shuffled List: {my_list}')\n"
      ],
      "metadata": {
        "id": "hXRuTT6fV9ZK",
        "colab": {
          "base_uri": "https://localhost:8080/"
        },
        "outputId": "9392102d-2f56-43fe-a9ee-2e33d9d66004"
      },
      "execution_count": 29,
      "outputs": [
        {
          "output_type": "stream",
          "name": "stdout",
          "text": [
            "Original List: [1, 2, 3, 4, 5]\n",
            "Shuffled List: [1, 5, 3, 4, 2]\n"
          ]
        }
      ]
    },
    {
      "cell_type": "code",
      "source": [
        "# 21  Write a code that takes two tuples as input and returns a new tuple containing elements that are common to both input tuples\n",
        "\n",
        "def common_elements(tuple1, tuple2):\n",
        "    # Convert tuples to sets to find common elements\n",
        "    set1 = set(tuple1)\n",
        "    set2 = set(tuple2)\n",
        "\n",
        "    # Find the intersection of the two sets\n",
        "    common_set = set1.intersection(set2)\n",
        "\n",
        "    # Convert the result back to a tuple and return\n",
        "    return tuple(common_set)\n",
        "\n",
        "# Example usage\n",
        "tuple_a = (1, 2, 3, 4, 5)\n",
        "tuple_b = (4, 5, 6, 7, 8)\n",
        "common_tuple = common_elements(tuple_a, tuple_b)\n",
        "\n",
        "print(f'Common elements between {tuple_a} and {tuple_b}: {common_tuple}')  # Output: (4, 5)\n"
      ],
      "metadata": {
        "id": "87_rSqRgV-jK",
        "colab": {
          "base_uri": "https://localhost:8080/"
        },
        "outputId": "2a9e5ade-9f91-4ac1-cc40-a9417577dda6"
      },
      "execution_count": 30,
      "outputs": [
        {
          "output_type": "stream",
          "name": "stdout",
          "text": [
            "Common elements between (1, 2, 3, 4, 5) and (4, 5, 6, 7, 8): (4, 5)\n"
          ]
        }
      ]
    },
    {
      "cell_type": "code",
      "source": [
        "# 22 Create a code that prompts the user to enter two sets of integers separated by commas. Then, print the intersection of these two sets\n",
        "\n",
        "def get_set_from_input(prompt):\n",
        "    # Prompt the user for input and split by commas\n",
        "    user_input = input(prompt)\n",
        "\n",
        "    # Convert the input string into a set of integers\n",
        "    return set(int(num.strip()) for num in user_input.split(','))\n",
        "\n",
        "def main():\n",
        "    # Get two sets from user input\n",
        "    set1 = get_set_from_input(\"Enter the first set of integers (separated by commas): \")\n",
        "    set2 = get_set_from_input(\"Enter the second set of integers (separated by commas): \")\n",
        "\n",
        "    # Calculate the intersection\n",
        "    intersection = set1.intersection(set2)\n",
        "\n",
        "    # Print the result\n",
        "    print(f'The intersection of {set1} and {set2} is: {intersection}')\n",
        "\n",
        "# Run the main function\n",
        "if __name__ == \"__main__\":\n",
        "    main()\n"
      ],
      "metadata": {
        "id": "B2AsDJjPWApv",
        "colab": {
          "base_uri": "https://localhost:8080/"
        },
        "outputId": "dcaaad41-ba51-4c57-e016-08213f19fe3d"
      },
      "execution_count": 31,
      "outputs": [
        {
          "output_type": "stream",
          "name": "stdout",
          "text": [
            "Enter the first set of integers (separated by commas): 1,2,3,4\n",
            "Enter the second set of integers (separated by commas): 3,4,5,6\n",
            "The intersection of {1, 2, 3, 4} and {3, 4, 5, 6} is: {3, 4}\n"
          ]
        }
      ]
    },
    {
      "cell_type": "code",
      "source": [
        "# 23 Write a code to concatenate two tuples. The function should take two tuples as input and return a new tuple containing elements from both input tuples.\n",
        "\n",
        "def concatenate_tuples(tuple1, tuple2):\n",
        "    # Concatenate the two tuples\n",
        "    return tuple1 + tuple2\n",
        "\n",
        "# Example usage\n",
        "tuple_a = (1, 2, 3)\n",
        "tuple_b = (4, 5, 6)\n",
        "result_tuple = concatenate_tuples(tuple_a, tuple_b)\n",
        "\n",
        "print(f'Concatenated Tuple: {result_tuple}')  # Output: (1, 2, 3, 4, 5, 6)\n"
      ],
      "metadata": {
        "id": "xjg66sibWCLW",
        "colab": {
          "base_uri": "https://localhost:8080/"
        },
        "outputId": "2b754cf6-28f9-4b07-a4ca-efa49b8b3b70"
      },
      "execution_count": 32,
      "outputs": [
        {
          "output_type": "stream",
          "name": "stdout",
          "text": [
            "Concatenated Tuple: (1, 2, 3, 4, 5, 6)\n"
          ]
        }
      ]
    },
    {
      "cell_type": "code",
      "source": [
        "# 24  Develop a code that prompts the user to input two sets of strings. Then, print the elements that are present in the first set but not in the second set&\n",
        "\n",
        "def get_set_from_input(prompt):\n",
        "    # Prompt the user for input and split by commas\n",
        "    user_input = input(prompt)\n",
        "\n",
        "    # Convert the input string into a set of strings\n",
        "    return set(item.strip() for item in user_input.split(','))\n",
        "\n",
        "def main():\n",
        "    # Get two sets from user input\n",
        "    set1 = get_set_from_input(\"Enter the first set of strings (separated by commas): \")\n",
        "    set2 = get_set_from_input(\"Enter the second set of strings (separated by commas): \")\n",
        "\n",
        "    # Calculate the difference (elements in set1 but not in set2)\n",
        "    difference_set = set1.difference(set2)  # or use set1 - set2\n",
        "\n",
        "    # Print the result\n",
        "    print(f'Elements in the first set but not in the second set: {difference_set}')\n",
        "\n",
        "# Run the main function\n",
        "if __name__ == \"__main__\":\n",
        "    main()\n"
      ],
      "metadata": {
        "id": "N8Hg-PuAWDNU",
        "colab": {
          "base_uri": "https://localhost:8080/"
        },
        "outputId": "369bbcaa-2945-42c5-c00c-40207a17e6c5"
      },
      "execution_count": 44,
      "outputs": [
        {
          "output_type": "stream",
          "name": "stdout",
          "text": [
            "Enter the first set of strings (separated by commas):  apple, banana, cherry\n",
            "Enter the second set of strings (separated by commas):  banana, dragonfruit, elderberry\n",
            "Elements in the first set but not in the second set: {'apple', 'cherry'}\n"
          ]
        }
      ]
    },
    {
      "cell_type": "code",
      "source": [
        "# 25  Create a code that takes a tuple and two integers as input. The function should return a new tuple containing elements from the original tuple within the specified range of indices&\n",
        "\n",
        "def slice_tuple(input_tuple, start_index, end_index):\n",
        "    # Check if the indices are within the valid range\n",
        "    if start_index < 0 or end_index > len(input_tuple) or start_index > end_index:\n",
        "        return None  # Return None for invalid indices\n",
        "\n",
        "    # Return the sliced tuple\n",
        "    return input_tuple[start_index:end_index]\n",
        "\n",
        "# Example usage\n",
        "original_tuple = (10, 20, 30, 40, 50, 60)\n",
        "start = 1\n",
        "end = 4\n",
        "\n",
        "sliced_tuple = slice_tuple(original_tuple, start, end)\n",
        "\n",
        "if sliced_tuple is not None:\n",
        "    print(f'Sliced Tuple: {sliced_tuple}')  # Output: Sliced Tuple: (20, 30, 40)\n",
        "else:\n",
        "    print(\"Invalid index range provided.\")\n",
        "\n"
      ],
      "metadata": {
        "id": "Ck5-u2tcWEfD",
        "colab": {
          "base_uri": "https://localhost:8080/"
        },
        "outputId": "a2c9c0b3-8bda-45dc-e83d-50e65f1c3748"
      },
      "execution_count": 45,
      "outputs": [
        {
          "output_type": "stream",
          "name": "stdout",
          "text": [
            "Sliced Tuple: (20, 30, 40)\n"
          ]
        }
      ]
    },
    {
      "cell_type": "code",
      "source": [
        "# 26  Write a code that prompts the user to input two sets of characters. Then, print the union of these two sets&\n",
        "\n",
        "def get_set_from_input(prompt):\n",
        "    # Prompt the user for input and split by commas\n",
        "    user_input = input(prompt)\n",
        "\n",
        "    # Convert the input string into a set of characters\n",
        "    return set(char.strip() for char in user_input.split(','))\n",
        "\n",
        "def main():\n",
        "    # Get two sets from user input\n",
        "    set1 = get_set_from_input(\"Enter the first set of characters (separated by commas): \")\n",
        "    set2 = get_set_from_input(\"Enter the second set of characters (separated by commas): \")\n",
        "\n",
        "    # Calculate the union of the two sets\n",
        "    union_set = set1.union(set2)  # or use set1 | set2\n",
        "\n",
        "    # Print the result\n",
        "    print(f'The union of {set1} and {set2} is: {union_set}')\n",
        "\n",
        "# Run the main function\n",
        "if __name__ == \"__main__\":\n",
        "    main()\n"
      ],
      "metadata": {
        "id": "nEfIGk4sWGdW",
        "colab": {
          "base_uri": "https://localhost:8080/"
        },
        "outputId": "fba61b6f-5a30-40d8-9d00-47a8c8543ac3"
      },
      "execution_count": 43,
      "outputs": [
        {
          "output_type": "stream",
          "name": "stdout",
          "text": [
            "Enter the first set of characters (separated by commas): a, b, c\n",
            "Enter the second set of characters (separated by commas): b, c, d, e\n",
            "The union of {'b', 'a', 'c'} and {'d', 'b', 'e', 'c'} is: {'e', 'c', 'd', 'b', 'a'}\n"
          ]
        }
      ]
    },
    {
      "cell_type": "code",
      "source": [
        "# 27  Develop a code that takes a tuple of integers as input. The function should return the maximum and minimum values from the tuple using tuple unpacking&\n",
        "\n",
        "def find_max_min(input_tuple):\n",
        "    # Ensure the tuple is not empty\n",
        "    if not input_tuple:\n",
        "        return None, None\n",
        "\n",
        "    # Initialize max and min with the first element of the tuple\n",
        "    max_value = min_value = input_tuple[0]\n",
        "\n",
        "    # Iterate through the tuple to find max and min values\n",
        "    for number in input_tuple:\n",
        "        if number > max_value:\n",
        "            max_value = number\n",
        "        if number < min_value:\n",
        "            min_value = number\n",
        "\n",
        "    return max_value, min_value  # Return as a tuple\n",
        "\n",
        "# Example usage\n",
        "input_tuple = (3, 1, 4, 1, 5, 9, 2, 6)\n",
        "max_val, min_val = find_max_min(input_tuple)\n",
        "\n",
        "print(f'Maximum value: {max_val}')  # Output: Maximum value: 9\n",
        "print(f'Minimum value: {min_val}')  # Output: Minimum value: 1\n"
      ],
      "metadata": {
        "id": "53-CyPAGWHbD",
        "colab": {
          "base_uri": "https://localhost:8080/"
        },
        "outputId": "69d4335f-a90c-45f7-bc36-6b55d5e6fef9"
      },
      "execution_count": 42,
      "outputs": [
        {
          "output_type": "stream",
          "name": "stdout",
          "text": [
            "Maximum value: 9\n",
            "Minimum value: 1\n"
          ]
        }
      ]
    },
    {
      "cell_type": "code",
      "source": [
        "# 28 Create a code that defines two sets of integers. Then, print the union, intersection, and difference of these two sets\n",
        "# Define two sets of integers\n",
        "set_a = {1, 2, 3, 4, 5}\n",
        "set_b = {4, 5, 6, 7, 8}\n",
        "\n",
        "# Calculate the union of the two sets\n",
        "union_set = set_a.union(set_b)  # or use set_a | set_b\n",
        "\n",
        "# Calculate the intersection of the two sets\n",
        "intersection_set = set_a.intersection(set_b)  # or use set_a & set_b\n",
        "\n",
        "# Calculate the difference of the two sets (set_a - set_b)\n",
        "difference_set_a_b = set_a.difference(set_b)  # or use set_a - set_b\n",
        "\n",
        "# Calculate the difference of the two sets (set_b - set_a)\n",
        "difference_set_b_a = set_b.difference(set_a)  # or use set_b - set_a\n",
        "\n",
        "# Print the results\n",
        "print(f'Set A: {set_a}')\n",
        "print(f'Set B: {set_b}')\n",
        "print(f'Union of Set A and Set B: {union_set}')  # Output: {1, 2, 3, 4, 5, 6, 7, 8}\n",
        "print(f'Intersection of Set A and Set B: {intersection_set}')  # Output: {4, 5}\n",
        "print(f'Difference of Set A and Set B (A - B): {difference_set_a_b}')  # Output: {1, 2, 3}\n",
        "print(f'Difference of Set B and Set A (B - A): {difference_set_b_a}')  # Output: {8, 6, 7}\n",
        "\n"
      ],
      "metadata": {
        "id": "wDE2zOykWIan",
        "colab": {
          "base_uri": "https://localhost:8080/"
        },
        "outputId": "8989ce79-ca4c-44cd-dbda-7c97f5568818"
      },
      "execution_count": 41,
      "outputs": [
        {
          "output_type": "stream",
          "name": "stdout",
          "text": [
            "Set A: {1, 2, 3, 4, 5}\n",
            "Set B: {4, 5, 6, 7, 8}\n",
            "Union of Set A and Set B: {1, 2, 3, 4, 5, 6, 7, 8}\n",
            "Intersection of Set A and Set B: {4, 5}\n",
            "Difference of Set A and Set B (A - B): {1, 2, 3}\n",
            "Difference of Set B and Set A (B - A): {8, 6, 7}\n"
          ]
        }
      ]
    },
    {
      "cell_type": "code",
      "source": [
        "# 29 Write a code that takes a tuple and an element as input. The function should return the count of occurrences of the given element in the tuple&\n",
        "\n",
        "def count_occurrences(input_tuple, element):\n",
        "    # Use the count method of the tuple to get the number of occurrences\n",
        "    return input_tuple.count(element)\n",
        "\n",
        "# Example usage\n",
        "my_tuple = (1, 2, 3, 4, 2, 5, 2)\n",
        "element_to_count = 2\n",
        "occurrences = count_occurrences(my_tuple, element_to_count)\n",
        "\n",
        "print(f'The element {element_to_count} occurs {occurrences} times in the tuple {my_tuple}.')  # Output: The element 2 occurs 3 times in the tuple (1,\n"
      ],
      "metadata": {
        "id": "LiSJR2YRWJW_",
        "colab": {
          "base_uri": "https://localhost:8080/"
        },
        "outputId": "6f19ee0f-dbf6-4c26-d58b-930b9cca46f1"
      },
      "execution_count": 39,
      "outputs": [
        {
          "output_type": "stream",
          "name": "stdout",
          "text": [
            "The element 2 occurs 3 times in the tuple (1, 2, 3, 4, 2, 5, 2).\n"
          ]
        }
      ]
    },
    {
      "cell_type": "code",
      "source": [
        "# 30 Develop a code that prompts the user to input two sets of strings. Then, print the symmetric difference of these two sets&\n",
        "\n",
        "def get_set_from_input(prompt):\n",
        "    # Prompt the user for input and split by commas\n",
        "    user_input = input(prompt)\n",
        "\n",
        "    # Convert the input string into a set of strings\n",
        "    return set(item.strip() for item in user_input.split(','))\n",
        "\n",
        "def main():\n",
        "    # Get two sets from user input\n",
        "    set1 = get_set_from_input(\"Enter the first set of strings (separated by commas): \")\n",
        "    set2 = get_set_from_input(\"Enter the second set of strings (separated by commas): \")\n",
        "\n",
        "    # Calculate the symmetric difference\n",
        "    symmetric_difference = set1.symmetric_difference(set2)\n",
        "\n",
        "    # Print the result\n",
        "    print(f'The symmetric difference between {set1} and {set2} is: {symmetric_difference}')\n",
        "\n",
        "# Run the main function\n",
        "if __name__ == \"__main__\":\n",
        "    main()\n"
      ],
      "metadata": {
        "id": "o_VjRoK6WKPC",
        "colab": {
          "base_uri": "https://localhost:8080/"
        },
        "outputId": "50ab3c2d-70ab-4e54-97b3-4dfa2c939da3"
      },
      "execution_count": 38,
      "outputs": [
        {
          "output_type": "stream",
          "name": "stdout",
          "text": [
            "Enter the first set of strings (separated by commas): apple, banana, cherry\n",
            "Enter the second set of strings (separated by commas):   banana, dragonfruit, elderberry\n",
            "The symmetric difference between {'banana', 'apple', 'cherry'} and {'banana', 'elderberry', 'dragonfruit'} is: {'dragonfruit', 'elderberry', 'cherry', 'apple'}\n"
          ]
        }
      ]
    },
    {
      "cell_type": "code",
      "source": [
        "# 31 Write a code that takes a list of words as input and returns a dictionary where the keys are unique words and the values are the frequencies of those words in the input list\n",
        "\n",
        "def count_word_frequencies(word_list):\n",
        "    frequency_dict = {}\n",
        "\n",
        "    for word in word_list:\n",
        "        # Convert word to lowercase to ensure case insensitivity (optional)\n",
        "        word = word.lower()\n",
        "\n",
        "        if word in frequency_dict:\n",
        "            frequency_dict[word] += 1  # Increment the count if the word already exists\n",
        "        else:\n",
        "            frequency_dict[word] = 1     # Initialize the count for new words\n",
        "\n",
        "    return frequency_dict\n",
        "\n",
        "# Example usage\n",
        "words = [\"apple\", \"banana\", \"apple\", \"orange\", \"banana\", \"apple\"]\n",
        "frequency_result = count_word_frequencies(words)\n",
        "\n",
        "print(f'Word Frequencies: {frequency_result}')  # Output: {'apple': 3, 'banana': 2, 'orange': 1}\n"
      ],
      "metadata": {
        "id": "pfT6F2hdWNcL",
        "colab": {
          "base_uri": "https://localhost:8080/"
        },
        "outputId": "a052168f-0ed0-4baa-c27f-f61bd2f5061d"
      },
      "execution_count": 37,
      "outputs": [
        {
          "output_type": "stream",
          "name": "stdout",
          "text": [
            "Word Frequencies: {'apple': 3, 'banana': 2, 'orange': 1}\n"
          ]
        }
      ]
    },
    {
      "cell_type": "code",
      "source": [
        "# 32 Write a code that takes two dictionaries as input and merges them into a single dictionary. If there are common keys, the values should be added together&\n",
        "\n",
        "def merge_dictionaries(dict1, dict2):\n",
        "    merged_dict = dict1.copy()  # Start with a copy of the first dictionary\n",
        "\n",
        "    for key, value in dict2.items():\n",
        "        if key in merged_dict:\n",
        "            # If the key exists, add the values\n",
        "            merged_dict[key] += value\n",
        "        else:\n",
        "            # If the key does not exist, add it to the merged dictionary\n",
        "            merged_dict[key] = value\n",
        "\n",
        "    return merged_dict\n",
        "\n",
        "# Example usage\n",
        "dict_a = {\n",
        "    'a': 1,\n",
        "    'b': 2,\n",
        "    'c': 3\n",
        "}\n",
        "\n",
        "dict_b = {\n",
        "    'b': 3,\n",
        "    'c': 4,\n",
        "    'd': 5\n",
        "}\n",
        "\n",
        "merged_result = merge_dictionaries(dict_a, dict_b)\n",
        "\n",
        "print(f'Merged Dictionary: {merged_result}')  # Output: {'a': 1, 'b': 5, 'c': 7, 'd': 5}\n"
      ],
      "metadata": {
        "id": "4TSVD7ImWONV",
        "colab": {
          "base_uri": "https://localhost:8080/"
        },
        "outputId": "1389081f-4bb0-44e4-b70d-e79525e325e1"
      },
      "execution_count": 36,
      "outputs": [
        {
          "output_type": "stream",
          "name": "stdout",
          "text": [
            "Merged Dictionary: {'a': 1, 'b': 5, 'c': 7, 'd': 5}\n"
          ]
        }
      ]
    },
    {
      "cell_type": "code",
      "source": [
        "# 33 Write a code to access a value in a nested dictionary. The function should take the dictionary and a list of keys as input, and return the corresponding value. If any of the keys do not exist in the dictionary, the function should return None&\n",
        "\n",
        "def access_nested_value(nested_dict, keys):\n",
        "    current_value = nested_dict\n",
        "\n",
        "    for key in keys:\n",
        "        # Check if the key exists in the current level of the dictionary\n",
        "        if key in current_value:\n",
        "            current_value = current_value[key]  # Move to the next level\n",
        "        else:\n",
        "            return None  # Return None if the key does not exist\n",
        "\n",
        "    return current_value  # Return the final value if all keys are valid\n",
        "\n",
        "# Example usage\n",
        "nested_dict = {\n",
        "    'a': {\n",
        "        'b': {\n",
        "            'c': 1,\n",
        "            'd': 2\n",
        "        },\n",
        "        'e': 3\n",
        "    },\n",
        "    'f': 4\n",
        "}\n",
        "\n",
        "# Accessing a value using a list of keys\n",
        "keys_to_access = ['a', 'b', 'c']\n",
        "value = access_nested_value(nested_dict, keys_to_access)\n",
        "print(f'Value accessed: {value}')  # Output: Value accessed: 1\n",
        "\n",
        "# Attempting to access a non-existing key\n",
        "keys_to_access_invalid = ['a', 'b', 'x']\n",
        "value_invalid = access_nested_value(nested_dict, keys_to_access_invalid)\n",
        "print(f'Value accessed (invalid keys): {value_invalid}')  # Output: Value accessed (invalid keys): None\n"
      ],
      "metadata": {
        "id": "z4A3yvOOWOwb",
        "colab": {
          "base_uri": "https://localhost:8080/"
        },
        "outputId": "2cd96e3d-7e6b-478c-e967-c262fc38ffb9"
      },
      "execution_count": 35,
      "outputs": [
        {
          "output_type": "stream",
          "name": "stdout",
          "text": [
            "Value accessed: 1\n",
            "Value accessed (invalid keys): None\n"
          ]
        }
      ]
    },
    {
      "cell_type": "code",
      "source": [
        "# 34 Write a code that takes a dictionary as input and returns a sorted version of it based on the values. You can choose whether to sort in ascending or descending order&\n",
        "\n",
        "def sort_dictionary_by_values(input_dict, ascending=True):\n",
        "    # Sort the dictionary based on values\n",
        "    sorted_dict = dict(sorted(input_dict.items(), key=lambda item: item[1], reverse=not ascending))\n",
        "    return sorted_dict\n",
        "\n",
        "# Example usage\n",
        "original_dict = {\n",
        "    'a': 3,\n",
        "    'b': 1,\n",
        "    'c': 2,\n",
        "    'd': 5,\n",
        "    'e': 4\n",
        "}\n",
        "\n",
        "# Sort in ascending order\n",
        "sorted_ascending = sort_dictionary_by_values(original_dict, ascending=True)\n",
        "print(f'Sorted Dictionary (Ascending): {sorted_ascending}')  # Output: {'b': 1, 'c': 2, 'a': 3, 'e': 4, 'd': 5}\n",
        "\n",
        "# Sort in descending order\n",
        "sorted_descending = sort_dictionary_by_values(original_dict, ascending=False)\n",
        "print(f'Sorted Dictionary (Descending): {sorted_descending}')  # Output: {'d': 5, 'e': 4, 'a': 3, 'c': 2, 'b': 1}\n"
      ],
      "metadata": {
        "id": "tetqpHaJWPXk",
        "colab": {
          "base_uri": "https://localhost:8080/"
        },
        "outputId": "67f25796-cbc3-42ed-f438-f34948d30648"
      },
      "execution_count": 34,
      "outputs": [
        {
          "output_type": "stream",
          "name": "stdout",
          "text": [
            "Sorted Dictionary (Ascending): {'b': 1, 'c': 2, 'a': 3, 'e': 4, 'd': 5}\n",
            "Sorted Dictionary (Descending): {'d': 5, 'e': 4, 'a': 3, 'c': 2, 'b': 1}\n"
          ]
        }
      ]
    },
    {
      "cell_type": "code",
      "source": [
        "# 35  Write a code that inverts a dictionary, swapping keys and values. Ensure that the inverted dictionary correctly handles cases where multiple keys have the same value by storing the keys as a list in the inverted dictionary\n",
        "\n",
        "def invert_dictionary(original_dict):\n",
        "    inverted_dict = {}\n",
        "\n",
        "    for key, value in original_dict.items():\n",
        "        # If the value is already a key in the inverted dictionary\n",
        "        if value in inverted_dict:\n",
        "            # Append the key to the list of keys for this value\n",
        "            inverted_dict[value].append(key)\n",
        "        else:\n",
        "            # Create a new entry with the value as the key and the key as a list\n",
        "            inverted_dict[value] = [key]\n",
        "\n",
        "    return inverted_dict\n",
        "\n",
        "# Example usage\n",
        "original_dict = {\n",
        "    'a': 1,\n",
        "    'b': 2,\n",
        "    'c': 1,\n",
        "    'd': 3\n",
        "}\n",
        "\n",
        "inverted_result = invert_dictionary(original_dict)\n",
        "\n",
        "print(f'Original Dictionary: {original_dict}')\n",
        "print(f'Inverted Dictionary: {inverted_result}')\n"
      ],
      "metadata": {
        "id": "0xLivmTrWQYU",
        "colab": {
          "base_uri": "https://localhost:8080/"
        },
        "outputId": "1f03549c-1a19-4c59-aac8-ddfdb629e2aa"
      },
      "execution_count": 33,
      "outputs": [
        {
          "output_type": "stream",
          "name": "stdout",
          "text": [
            "Original Dictionary: {'a': 1, 'b': 2, 'c': 1, 'd': 3}\n",
            "Inverted Dictionary: {1: ['a', 'c'], 2: ['b'], 3: ['d']}\n"
          ]
        }
      ]
    }
  ]
}