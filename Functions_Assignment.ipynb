{
  "nbformat": 4,
  "nbformat_minor": 0,
  "metadata": {
    "colab": {
      "provenance": []
    },
    "kernelspec": {
      "name": "python3",
      "display_name": "Python 3"
    },
    "language_info": {
      "name": "python"
    }
  },
  "cells": [
    {
      "cell_type": "code",
      "execution_count": null,
      "metadata": {
        "colab": {
          "base_uri": "https://localhost:8080/"
        },
        "id": "uCDmymutlVO2",
        "outputId": "90e23ef1-3e1d-42e1-8962-23a3573562fb"
      },
      "outputs": [
        {
          "output_type": "stream",
          "name": "stdout",
          "text": [
            "11\n",
            "12\n"
          ]
        }
      ],
      "source": [
        "# Que 1. What is the difference between a function and a method in Python?\n",
        "\n",
        "# Feature\t                      Function\t                                                Method\n",
        "# Definition            Location\tDefined outside of any class\t                  Defined inside a class\n",
        "# Invocation\t          Called by its name alone\t                                Called on an instance or class using dot notation (e.g., object.method())\n",
        "# Parameters\t          Can have zero or more parameters\t                        Must have at least one parameter (self or cls) to refer to the instance or class\n",
        "# Access to Data\t      Cannot access or modify class attributes\t                Can access and modify attributes of the class instance\n",
        "# Independence\t        Independent of classes\t                                  Dependent on classes\n",
        "\n",
        "# function example\n",
        "\n",
        "def add(a,b):\n",
        "  return a+b\n",
        "\n",
        "result= add(5,6) #calling function\n",
        "print(result)\n",
        "\n",
        "# Method example\n",
        "\n",
        "class calculator:\n",
        "  def add(self,a,b):\n",
        "    return a+b\n",
        "\n",
        "obj= calculator() # Creating an instance of Calculator\n",
        "result= obj.add(5,7) # Calling method\n",
        "print(result)"
      ]
    },
    {
      "cell_type": "code",
      "source": [
        "# Que 2. Explain the concept of function arguments and parameters in Python.\n",
        "\n",
        "# Feature\t        Parameter\t                                                    Argument\n",
        "# Definition\t    Variable in function definition\t                              Value passed to the function during call\n",
        "# Location\t      Inside parentheses of the function definition\t                In the function call\n",
        "# Purpose\t        Defines what kind of data the function can accept\t            Provides specific data for processing\n",
        "\n",
        "def add(x,y): # x and y are parameters\n",
        "  return x+y\n",
        "\n",
        "result= add(2,6) # 2 and 6 are arguments\n",
        "print(result)"
      ],
      "metadata": {
        "colab": {
          "base_uri": "https://localhost:8080/"
        },
        "id": "Pzfx9K2endI4",
        "outputId": "2bd11e06-7851-46bb-aba1-5a38843527ee"
      },
      "execution_count": null,
      "outputs": [
        {
          "output_type": "stream",
          "name": "stdout",
          "text": [
            "8\n"
          ]
        }
      ]
    },
    {
      "cell_type": "code",
      "source": [
        "# Que 3. What are the different ways to define and call a function in Python?\n",
        "\n",
        "# 1. Basic Function Definition and Call\n",
        "def greet():\n",
        "  print(\"Hello, world!\")\n",
        "\n",
        "greet() # Calling the function\n",
        "\n",
        "# 2. Function with Parameters\n",
        "def add(a,b):\n",
        "  return a+b\n",
        "\n",
        "result= add(5,6)\n",
        "print(result)\n",
        "\n",
        "# 3. Default Parameters\n",
        "def multiply(a,b=2):\n",
        "  return a*b\n",
        "\n",
        "print(multiply(5)) # use default b=2\n",
        "print(multiply(5,3)) # b=3\n",
        "\n",
        "# 4. Keyword Arguments\n",
        "def display_info(name,age):\n",
        "  print (f\"Name : {name} , Age = {age}\")\n",
        "\n",
        "display_info(age=25,name=\"Shina\")\n",
        "\n",
        "# 5. Arbitrary Arguments (*args)\n",
        "def sum_all(*args):\n",
        "  return sum(args)\n",
        "\n",
        "print(sum_all(1,2,3,4,5))\n",
        "\n",
        "# 6. Arbitrary Keyword Arguments (**kwargs)\n",
        "def print_details(**kwargs):\n",
        "  print(\"Name:\",kwargs[\"name\"])\n",
        "  print(\"Age:\",kwargs[\"age\"])\n",
        "\n",
        "print_details(name=\"Shina\",age=25)\n",
        "\n",
        "# 7. Lambda Functions\n",
        "square= lambda x: x**2\n",
        "print(square(5))\n",
        "\n"
      ],
      "metadata": {
        "colab": {
          "base_uri": "https://localhost:8080/"
        },
        "id": "fimNrAftojMi",
        "outputId": "54200e50-1a28-4c2c-f784-4a540d101b6b"
      },
      "execution_count": null,
      "outputs": [
        {
          "output_type": "stream",
          "name": "stdout",
          "text": [
            "Hello, world!\n",
            "11\n",
            "10\n",
            "15\n",
            "Name : Shina , Age = 25\n",
            "15\n",
            "Name: Shina\n",
            "Age: 25\n",
            "25\n"
          ]
        }
      ]
    },
    {
      "cell_type": "code",
      "source": [
        "# 4. What is the purpose of the `return` statement in a Python function?\n",
        "\n",
        "# The return statement in Python serves a crucial role in function definitions, allowing functions to send back a value to the caller and terminate their execution.\n",
        "\n",
        "def add(x, y):\n",
        "    return x + y\n",
        "\n",
        "result = add(5, 3)  # The return value of the function is stored in the variable 'result'\n",
        "print(result)"
      ],
      "metadata": {
        "colab": {
          "base_uri": "https://localhost:8080/"
        },
        "id": "PC3pJ0IWryfU",
        "outputId": "23795da0-7627-4669-bc60-13ff07f94ed4"
      },
      "execution_count": null,
      "outputs": [
        {
          "output_type": "stream",
          "name": "stdout",
          "text": [
            "8\n"
          ]
        }
      ]
    },
    {
      "cell_type": "code",
      "source": [
        "# Que 5. What are iterators in Python and how do they differ from iterables?\n",
        "\n",
        "# Feature\t                      Iterators\t                                          Iterables\n",
        "# Definition\t            An object that produces items one at a time\t          An object that can return an iterator\n",
        "# Methods\t                Implements __iter__() and __next__()\t                Implements __iter__()\n",
        "# State Management\t      Maintains state of iteration\t                        Does not maintain state\n",
        "# Exhaustion            \tCannot be reused once exhausted\t                      Can create new iterators multiple times\n",
        "# Memory Efficiency\t      More memory efficient (produces items on demand)\t    May hold all data in memory\n",
        "\n",
        "# Defining an iterable (a list)\n",
        "my_list = [10, 20, 30, 40]\n",
        "\n",
        "# Using a for loop to iterate over the iterable\n",
        "print(\"Iterating over the list:\")\n",
        "for item in my_list:\n",
        "    print(item)\n",
        "\n"
      ],
      "metadata": {
        "id": "dLTMO-jkszze",
        "colab": {
          "base_uri": "https://localhost:8080/"
        },
        "outputId": "401d4ac8-4516-45f1-c53c-991e66cbca5e"
      },
      "execution_count": null,
      "outputs": [
        {
          "output_type": "stream",
          "name": "stdout",
          "text": [
            "Iterating over the list:\n",
            "10\n",
            "20\n",
            "30\n",
            "40\n"
          ]
        }
      ]
    },
    {
      "cell_type": "code",
      "source": [
        "# Que 6. Explain the concept of generators in Python and how they are defined.\n",
        "\n",
        "# A generator is a special type of function that, instead of returning a single value, uses the yield keyword to produce a series of values over time.\n",
        "# To define a generator in Python, you use the def keyword just like with regular functions, but you replace the return statement with yield.\n",
        "\n",
        "def my_generator(n):\n",
        "  for i in range(n):\n",
        "    yield i\n",
        "\n",
        "# Using the generator\n",
        "\n",
        "for value in my_generator(5):\n",
        "  print(value)\n"
      ],
      "metadata": {
        "colab": {
          "base_uri": "https://localhost:8080/"
        },
        "id": "JjTR3Bp6bZl-",
        "outputId": "f258870c-e3dd-4818-e408-90546c37340d"
      },
      "execution_count": null,
      "outputs": [
        {
          "output_type": "stream",
          "name": "stdout",
          "text": [
            "0\n",
            "1\n",
            "2\n",
            "3\n",
            "4\n"
          ]
        }
      ]
    },
    {
      "cell_type": "markdown",
      "source": [
        "# Que 7. What are the advantages of using generators over regular functions?\n",
        "\n",
        "# Generators in Python provide several advantages over regular functions .\n",
        "\n",
        "# 1. Memory Efficiency -  Generators are designed to yield items one at a time and only when required, which makes them significantly more memory-efficient than regular functions that return entire lists or collections.\n",
        "# 2. Enhanced Performance -  Generators can start yielding results immediately without waiting for the entire dataset to be processed. This leads to improved performance, especially in scenarios where you need to process items sequentially.\n",
        "# 3. Ability to Represent Infinite Sequences -  Generators can represent infinite sequences because they yield values one at a time and do not require all values to be stored in memory.\n",
        "# 4. Code Simplicity and Readability -  Generators simplify code by allowing developers to write clean and readable iterative algorithms without the need for boilerplate code associated with managing state.\n",
        "# 5. Pipelining Operations -  Generators can be composed together to create pipelines of operations, allowing for efficient data processing workflows.\n"
      ],
      "metadata": {
        "id": "n4g7Gn5FfAlt"
      }
    },
    {
      "cell_type": "code",
      "source": [
        "# Que 8. What is a lambda function in Python and when is it typically used?\n",
        "\n",
        "# A lambda function in Python is a small, anonymous function defined using the lambda keyword. Unlike regular functions defined with def, lambda functions can take any number of arguments but only have a single expression. The value of this expression is returned automatically without needing a return statement.\n",
        "# Lambda functions are typically used in scenarios where:\n",
        "\n",
        "# Short-lived Functions: You need a simple function for a short period and do not want to formally define it using def. This is common in functional programming styles.\n",
        "# Callback Functions: They are often used as arguments to higher-order functions that expect a function as an input (like map(), filter(), or sorting functions).\n",
        "# Simplifying Code: Lambda functions can make code cleaner and more readable when used for simple operations that can be expressed in a single line.\n",
        "\n",
        "add_ten = lambda x:x+10\n",
        "print(add_ten(5))"
      ],
      "metadata": {
        "colab": {
          "base_uri": "https://localhost:8080/"
        },
        "id": "zhmfIxlofKrV",
        "outputId": "478ffb8f-6406-4644-8e77-4893582565c3"
      },
      "execution_count": null,
      "outputs": [
        {
          "output_type": "stream",
          "name": "stdout",
          "text": [
            "15\n"
          ]
        }
      ]
    },
    {
      "cell_type": "code",
      "source": [
        "# Que 9. Explain the purpose and usage of the `map()` function in Python.\n",
        "\n",
        "# Purpose of map()\n",
        "# The primary purpose of the map() function is to apply a transformation function to every item in an iterable, returning an iterator that yields the results. This can be particularly advantageous when processing large datasets, as it allows for memory-efficient handling of data by yielding items one at a time rather than storing them all at once.\n",
        "\n",
        "# Usage Examples -  Squaring Numbers,   Converting Temperatures,  Combining Two Lists,  String Manipulation:\n",
        "\n",
        "numbers = {1,2,3,4,5}\n",
        "squared_numbers = map(lambda x: x**2, numbers)\n",
        "print(list(squared_numbers))\n"
      ],
      "metadata": {
        "colab": {
          "base_uri": "https://localhost:8080/"
        },
        "id": "Cq6A8BzAjTBp",
        "outputId": "679dede2-523c-445d-c732-d17070be6d2f"
      },
      "execution_count": 5,
      "outputs": [
        {
          "output_type": "stream",
          "name": "stdout",
          "text": [
            "[1, 4, 9, 16, 25]\n"
          ]
        }
      ]
    },
    {
      "cell_type": "code",
      "source": [
        "# 10. What is the difference between `map()`, `reduce()`, and `filter()` functions in Python?\n",
        "\n",
        "# Feature\t                            map()\t                                      filter()\t                                                  reduce()\n",
        "# Function Type\t        Takes a function and applies it to each element\t          Takes a function that returns boolean values\t              Takes a function that combines two elements\n",
        "# Output Type\t          Returns an iterator of transformed elements\t              Returns an iterator of filtered elements\t                  Returns a single cumulative value\n",
        "# Number of Iterables \tCan take multiple iterables\t                              Takes only one iterable\t                                    Takes one iterable\n",
        "# Use Case\t            Transforming data\t                                        Filtering data\t                                            Aggregating data\n",
        "\n",
        "# map ()\n",
        "numbers = {1,2,3,4,5}\n",
        "squared_numbers = map(lambda x: x**2, numbers)\n",
        "print(list(squared_numbers))\n",
        "\n",
        "# filter()\n",
        "numbers = {1,2,3,4,5}\n",
        "even_numbers = filter(lambda x: x%2 == 0 , numbers)\n",
        "print(list(even_numbers))\n",
        "\n",
        "# reduce()\n",
        "from functools import reduce\n",
        "numbers = {1,2,3,4,5}\n",
        "sum_of_numbers = reduce(lambda x,y: x+y , numbers)\n",
        "print(sum_of_numbers)\n"
      ],
      "metadata": {
        "colab": {
          "base_uri": "https://localhost:8080/"
        },
        "id": "YFkqNCo8l6z3",
        "outputId": "cc01c6d8-7fe2-43e2-9c20-1abfcff3be97"
      },
      "execution_count": 6,
      "outputs": [
        {
          "output_type": "stream",
          "name": "stdout",
          "text": [
            "[1, 4, 9, 16, 25]\n",
            "[2, 4]\n",
            "15\n"
          ]
        }
      ]
    },
    {
      "cell_type": "code",
      "source": [
        "# Que 11. Using pen & Paper write the internal mechanism for sum operation using reduce function on this given list:[47,11,42,13]\n",
        "\n",
        "# Initialization:\n",
        "\n",
        "    # Start with the list: [47,11,42,13][47,11,42,13].\n",
        "    # Define a function for addition:\n",
        "\n",
        "# First Iteration:\n",
        "\n",
        "    # Take the first two elements: 47 and 11.\n",
        "    # Apply the function:\n",
        "    # result=add(47,11)=58\n",
        "    # result=add(47,11)=58\n",
        "\n",
        "# Second Iteration:\n",
        "\n",
        "    # Now take the result from the previous step (58) and the next element in the list (42).\n",
        "    # Apply the function:\n",
        "    # result=add(58,42)=100\n",
        "    # result=add(58,42)=100\n",
        "\n",
        "# Third Iteration:\n",
        "\n",
        "    # Take the result from the previous step (100) and the next element in the list (13).\n",
        "    # Apply the function:\n",
        "    # result=add(100,13)=113\n",
        "    # result=add(100,13)=113\n",
        "\n",
        "from functools import reduce\n",
        "numbers = [47, 11,42, 13]\n",
        "\n",
        "def add(x,y):\n",
        "  return x+y\n",
        "\n",
        "sum_of_numbers = reduce(add, numbers)\n",
        "\n",
        "print(sum_of_numbers)\n"
      ],
      "metadata": {
        "colab": {
          "base_uri": "https://localhost:8080/"
        },
        "id": "JviO6BeFoxbq",
        "outputId": "4aeb64bd-a3d2-42fd-cd42-45bfe5e225a0"
      },
      "execution_count": 7,
      "outputs": [
        {
          "output_type": "stream",
          "name": "stdout",
          "text": [
            "113\n"
          ]
        }
      ]
    },
    {
      "cell_type": "markdown",
      "source": [
        "                                                    **Practical Questions:**"
      ],
      "metadata": {
        "id": "DzXl4qEIsrUD"
      }
    },
    {
      "cell_type": "code",
      "source": [
        "# Que 1. Write a Python function that takes a list of numbers as input and returns the sum of all even numbers in the list.\n",
        "\n",
        "def sum_of_even_numbers(numbers):\n",
        "\n",
        "    total = sum(num for num in numbers if num % 2 == 0)\n",
        "    return total\n",
        "\n",
        "input_list = [1,2,3,4,5,6,7,8,9,10]\n",
        "result = sum_of_even_numbers(input_list)\n",
        "print(\"Sum of even numbers : \" , result)\n",
        "\n"
      ],
      "metadata": {
        "colab": {
          "base_uri": "https://localhost:8080/"
        },
        "id": "1JLPe6drsmad",
        "outputId": "eee2cc17-cba2-4914-bf3e-2c8f2ea845b6"
      },
      "execution_count": 18,
      "outputs": [
        {
          "output_type": "stream",
          "name": "stdout",
          "text": [
            "Sum of even numbers :  30\n"
          ]
        }
      ]
    },
    {
      "cell_type": "code",
      "source": [
        "# Que 2. Create a Python function that accepts a string and returns the reverse of that string.\n",
        "\n",
        "def reverse_string(input_string):\n",
        "  reversed_string = input_string[::-1]\n",
        "  return reversed_string\n",
        "\n",
        "input_string = \"Hello World\"\n",
        "result =  reverse_string(input_string)\n",
        "print(\"Reversed string :\", result)\n"
      ],
      "metadata": {
        "colab": {
          "base_uri": "https://localhost:8080/"
        },
        "id": "6muuusLOzyaE",
        "outputId": "ffbd20e4-6d92-4cca-da50-1dc8c2fc4b7b"
      },
      "execution_count": 1,
      "outputs": [
        {
          "output_type": "stream",
          "name": "stdout",
          "text": [
            "Reversed string : dlroW olleH\n"
          ]
        }
      ]
    },
    {
      "cell_type": "code",
      "source": [
        "# Que 3. Implement a Python function that takes a list of integers and returns a new list containing the squares of each number.\n",
        "\n",
        "def square_numbers(numbers):\n",
        "  squared_numbers = [num**2 for num in numbers]\n",
        "  return squared_numbers\n",
        "\n",
        "input_list = [1,2,3,4,5]\n",
        "result = square_numbers(input_list)\n",
        "print(\"Squared numbers :\",result)"
      ],
      "metadata": {
        "colab": {
          "base_uri": "https://localhost:8080/"
        },
        "id": "MRMWt3yk7vSA",
        "outputId": "e0a927bd-64de-4844-a451-60ffafdd753e"
      },
      "execution_count": 3,
      "outputs": [
        {
          "output_type": "stream",
          "name": "stdout",
          "text": [
            "Squared numbers : [1, 4, 9, 16, 25]\n"
          ]
        }
      ]
    },
    {
      "cell_type": "code",
      "source": [
        "# Que 4. Write a Python function that checks if a given number is prime or not from 1 to 200.\n",
        "\n",
        "def is_prime(num):\n",
        "  if num <1 or num > 200:\n",
        "    raise ValueError(\"Number must be between 1 and 200\")\n",
        "  if num == 1:\n",
        "    return False\n",
        "  if num == 3:\n",
        "    return True # 2 and 3 are prime numbers\n",
        "\n",
        "  for i in range ( 2, int(num**0.5) +1):\n",
        "    if num % i == 0:\n",
        "      return False # found a factor , not prime\n",
        "\n",
        "  return True # no factors found , it's prime\n",
        "\n",
        "for number in range (1,200):\n",
        "  if is_prime(number):\n",
        "    print(f\"{number} is a prime number\")\n",
        ""
      ],
      "metadata": {
        "colab": {
          "base_uri": "https://localhost:8080/"
        },
        "id": "wsiKkAp-8-XY",
        "outputId": "85ca696f-af3d-48dd-d03b-76108ec0cb25"
      },
      "execution_count": 4,
      "outputs": [
        {
          "output_type": "stream",
          "name": "stdout",
          "text": [
            "2 is a prime number\n",
            "3 is a prime number\n",
            "5 is a prime number\n",
            "7 is a prime number\n",
            "11 is a prime number\n",
            "13 is a prime number\n",
            "17 is a prime number\n",
            "19 is a prime number\n",
            "23 is a prime number\n",
            "29 is a prime number\n",
            "31 is a prime number\n",
            "37 is a prime number\n",
            "41 is a prime number\n",
            "43 is a prime number\n",
            "47 is a prime number\n",
            "53 is a prime number\n",
            "59 is a prime number\n",
            "61 is a prime number\n",
            "67 is a prime number\n",
            "71 is a prime number\n",
            "73 is a prime number\n",
            "79 is a prime number\n",
            "83 is a prime number\n",
            "89 is a prime number\n",
            "97 is a prime number\n",
            "101 is a prime number\n",
            "103 is a prime number\n",
            "107 is a prime number\n",
            "109 is a prime number\n",
            "113 is a prime number\n",
            "127 is a prime number\n",
            "131 is a prime number\n",
            "137 is a prime number\n",
            "139 is a prime number\n",
            "149 is a prime number\n",
            "151 is a prime number\n",
            "157 is a prime number\n",
            "163 is a prime number\n",
            "167 is a prime number\n",
            "173 is a prime number\n",
            "179 is a prime number\n",
            "181 is a prime number\n",
            "191 is a prime number\n",
            "193 is a prime number\n",
            "197 is a prime number\n",
            "199 is a prime number\n"
          ]
        }
      ]
    },
    {
      "cell_type": "code",
      "source": [
        "# Que 5. Create an iterator class in Python that generates the Fibonacci sequence up to a specified number of terms.\n",
        "\n",
        "class FibonacciIterator:\n",
        "  def __init__(self, terms):\n",
        "    self.terms = terms\n",
        "    self.current = 0\n",
        "    self.a, self.b = 0,1\n",
        "\n",
        "  def __iter__(self):\n",
        "    return self\n",
        "\n",
        "  def __next__(self):\n",
        "\n",
        "      if self.current < self.terms:\n",
        "        next_value = self.a\n",
        "        self.a, self.b = self.b, self.a + self.b\n",
        "        self.current += 1\n",
        "        return next_value\n",
        "      else :\n",
        "        raise StopIteration\n",
        "\n",
        "fibonacci_terms = 10\n",
        "fibonacci_iterator = FibonacciIterator(fibonacci_terms)\n",
        "\n",
        "for value in fibonacci_iterator:\n",
        "  print(value)"
      ],
      "metadata": {
        "colab": {
          "base_uri": "https://localhost:8080/"
        },
        "id": "NQW8kNuBBSZt",
        "outputId": "0cf0e418-3463-46ba-cfa4-69cc0c11b013"
      },
      "execution_count": 7,
      "outputs": [
        {
          "output_type": "stream",
          "name": "stdout",
          "text": [
            "0\n",
            "1\n",
            "1\n",
            "2\n",
            "3\n",
            "5\n",
            "8\n",
            "13\n",
            "21\n",
            "34\n"
          ]
        }
      ]
    },
    {
      "cell_type": "code",
      "source": [
        "# Que 6. Write a generator function in Python that yields the powers of 2 up to a given exponent.\n",
        "\n",
        "def power_of_two(exponent):\n",
        "  for i in range(exponent + 1):\n",
        "    yield 2**i\n",
        "\n",
        "exponent = 5\n",
        "power_iterator = power_of_two(exponent)\n",
        "\n",
        "for value in power_iterator:\n",
        "  print(value)\n"
      ],
      "metadata": {
        "colab": {
          "base_uri": "https://localhost:8080/"
        },
        "id": "zJo6ncLdD4YH",
        "outputId": "58ee9ca5-d9e8-46fb-cf12-8d62ca4a5e3c"
      },
      "execution_count": 9,
      "outputs": [
        {
          "output_type": "stream",
          "name": "stdout",
          "text": [
            "1\n",
            "2\n",
            "4\n",
            "8\n",
            "16\n",
            "32\n"
          ]
        }
      ]
    },
    {
      "cell_type": "code",
      "source": [
        "# Que 7. Implement a generator function that reads a file line by line and yields each line as a string.\n",
        "\n",
        "def read_file_line_by_line(filename):\n",
        "\n",
        "    with open(filename, 'r') as file:\n",
        "        for line in file:\n",
        "            yield line.strip()  # Yield each line after stripping whitespace\n",
        "\n",
        "file_name = 'example.txt'  # Replace with your actual file path\n",
        "print(\"Reading lines from the file:\")\n",
        "for line in read_file_line_by_line(file_name):\n",
        "    print(line)\n",
        "\n"
      ],
      "metadata": {
        "id": "awh-MCYOE_8J"
      },
      "execution_count": 14,
      "outputs": []
    },
    {
      "cell_type": "code",
      "source": [
        "# Que 8. Use a lambda function in Python to sort a list of tuples based on the second element of each tuple.\n",
        "\n",
        "# Sample list of tuples\n",
        "subject_marks = [('English', 88), ('Science', 90), ('Maths', 97), ('Social sciences', 82)]\n",
        "\n",
        "# Using sort() to sort in place\n",
        "subject_marks.sort(key=lambda x: x[1])  # Sorts by the second element (marks)\n",
        "print(\"Sorted list using sort():\", subject_marks)\n"
      ],
      "metadata": {
        "colab": {
          "base_uri": "https://localhost:8080/"
        },
        "id": "XGIS01DqGOaz",
        "outputId": "51121a68-079d-4884-efff-fc891c2c5cf8"
      },
      "execution_count": 17,
      "outputs": [
        {
          "output_type": "stream",
          "name": "stdout",
          "text": [
            "Sorted list using sort(): [('Social sciences', 82), ('English', 88), ('Science', 90), ('Maths', 97)]\n"
          ]
        }
      ]
    },
    {
      "cell_type": "code",
      "source": [
        "# Que 9. Write a Python program that uses `map()` to convert a list of temperatures from Celsius to Fahrenheit.\n",
        "\n",
        "\n",
        "def celsius_to_fahrenheit(celsius):\n",
        "\n",
        "    return (celsius * 9/5) + 32\n",
        "\n",
        "# List of temperatures in Celsius\n",
        "celsius_temperatures = [0, 20, 37, 100]\n",
        "\n",
        "# Use map() to convert Celsius to Fahrenheit\n",
        "fahrenheit_temperatures = list(map(celsius_to_fahrenheit, celsius_temperatures))\n",
        "\n",
        "# Print the results\n",
        "print(\"Celsius temperatures:\", celsius_temperatures)\n",
        "print(\"Fahrenheit temperatures:\", fahrenheit_temperatures)\n"
      ],
      "metadata": {
        "colab": {
          "base_uri": "https://localhost:8080/"
        },
        "id": "xASKWq0EHE44",
        "outputId": "fccc4a77-e50b-4b11-c8a1-02005120397c"
      },
      "execution_count": 18,
      "outputs": [
        {
          "output_type": "stream",
          "name": "stdout",
          "text": [
            "Celsius temperatures: [0, 20, 37, 100]\n",
            "Fahrenheit temperatures: [32.0, 68.0, 98.6, 212.0]\n"
          ]
        }
      ]
    },
    {
      "cell_type": "code",
      "source": [
        "# Que 10. Create a Python program that uses `filter()` to remove all the vowels from a given string.\n",
        "\n",
        "def remove_vowels(input_string):\n",
        "    vowels = 'aeiouAEIOU'\n",
        "    filtered_string = ''.join(filter(lambda x: x not in vowels, input_string))\n",
        "    return filtered_string\n",
        "\n",
        "input_string = \"Hello, World!\"\n",
        "result = remove_vowels(input_string)\n",
        "print(\"Original string:\", input_string)\n",
        "print(\"String without vowels:\", result)"
      ],
      "metadata": {
        "colab": {
          "base_uri": "https://localhost:8080/"
        },
        "id": "vQlb6YGqHm6i",
        "outputId": "b5427863-04a0-4210-c05e-8edec4976ce4"
      },
      "execution_count": 20,
      "outputs": [
        {
          "output_type": "stream",
          "name": "stdout",
          "text": [
            "Original string: Hello, World!\n",
            "String without vowels: Hll, Wrld!\n"
          ]
        }
      ]
    },
    {
      "cell_type": "code",
      "source": [
        "# Que 11) Imagine an accounting routine used in a book shop. It works on a list with sublists, which look like this:\n",
        "\n",
        "data = [\n",
        "    [34587, \"Learning Python, Mark Lutz\", 4, 40.95],\n",
        "    [98762, \"Programming Python, Mark Lutz\", 5, 56.80],\n",
        "    [77226, \"Head First Python, Paul Barry\", 3, 32.95],\n",
        "    [88112, \"Einführung in Python3, Bernd Klein\", 3, 24.99]\n",
        "]\n",
        "\n",
        "result = list(map(lambda x: (x[0], x[3] * x[2] + 10 if x[3] * x[2] < 100 else x[3] * x[2]), data))\n",
        "print(result)"
      ],
      "metadata": {
        "colab": {
          "base_uri": "https://localhost:8080/"
        },
        "id": "puq4lyVLInOj",
        "outputId": "e3890d40-d632-49e1-bd4a-810515511966"
      },
      "execution_count": 21,
      "outputs": [
        {
          "output_type": "stream",
          "name": "stdout",
          "text": [
            "[(34587, 163.8), (98762, 284.0), (77226, 108.85000000000001), (88112, 84.97)]\n"
          ]
        }
      ]
    }
  ]
}