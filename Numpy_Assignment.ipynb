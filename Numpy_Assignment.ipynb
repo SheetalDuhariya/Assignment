{
  "nbformat": 4,
  "nbformat_minor": 0,
  "metadata": {
    "colab": {
      "provenance": []
    },
    "kernelspec": {
      "name": "python3",
      "display_name": "Python 3"
    },
    "language_info": {
      "name": "python"
    }
  },
  "cells": [
    {
      "cell_type": "markdown",
      "source": [
        " Que 1. Explain the purpose and advantages of NumPy in scientific computing and data analysis. How does it enhance Python's capabilities for numerical operations\n",
        "\n",
        "NumPy, short for Numerical Python, is primarily designed to facilitate numerical computations in Python. It provides:\n",
        "\n",
        "Multi-dimensional Arrays: The core feature of NumPy is its ndarray (N-dimensional array), which allows for efficient storage and manipulation of large datasets.\n",
        "\n",
        "Mathematical Functions: NumPy includes a comprehensive collection of mathematical functions that support operations on arrays, such as linear algebra, statistical analysis, and Fourier transforms.\n",
        "\n",
        "Data Handling: It enables efficient data handling for tasks like data cleaning, transformation, and aggregation, making it suitable for preprocessing in machine learning and data analysis\n",
        "\n",
        "Advantages of NumPy\n",
        "Performance and Speed\n",
        "\n",
        "  Speed Advantage: NumPy is significantly faster than traditional Python lists due to its implementation in C. Operations on NumPy arrays can be up to 50 times faster than those on lists because they are stored in contiguous memory locations, which enhances access speed1\n",
        "\n",
        "  Vectorization: It supports vectorized operations, allowing users to perform element-wise operations on entire arrays without the need for explicit loops, thus improving performance2\n",
        "\n",
        "Memory Efficiency\n",
        "\n",
        "  Efficient Memory Usage: NumPy arrays require less memory than Python lists since they store elements of the same type. This uniformity reduces overhead and leads to more compact storage1\n",
        "\n",
        "Rich Ecosystem Integration\n",
        "\n",
        "  Compatibility with Other Libraries: NumPy seamlessly integrates with other scientific libraries such as SciPy (for advanced computations), Pandas (for data manipulation), Matplotlib (for visualization), and Scikit-learn (for machine learning). This interoperability enhances its functionality across various domains2\n",
        "\n",
        "\n",
        "Broad Applications\n",
        "\n",
        "  Scientific Computing: Used extensively in fields like physics, biology, finance, and engineering for simulations and modeling real-world systems1\n",
        "  \n",
        "  Machine Learning: Many machine learning frameworks rely on NumPy for handling numerical data efficiently. Its array operations form the backbone of algorithms used in AI and machine learning tasks2\n",
        "\n",
        "Enhancements to Python's Capabilities\n",
        "NumPy enhances Python's capabilities for numerical operations in several ways:\n",
        "\n",
        "  High-Level Mathematical Functions: It provides high-level functions that simplify complex mathematical computations, making it easier for users to perform advanced analyses without needing extensive programming knowledge.\n",
        "\n",
        "  Broadcasting Mechanism: This feature allows NumPy to perform arithmetic operations on arrays of different shapes without requiring explicit replication of data. This simplifies code and reduces memory usage1\n",
        "    \n",
        "  Universal Functions (ufuncs): These are functions that operate element-wise on arrays, enabling fast execution of mathematical operations across large datasets4\n",
        "  \n",
        "  Support for Multi-dimensional Data: Unlike traditional lists that are one-dimensional, NumPy can handle multi-dimensional data structures efficiently, which is crucial for many scientific applications."
      ],
      "metadata": {
        "id": "iLIS1_jkiOeP"
      }
    },
    {
      "cell_type": "code",
      "source": [
        "# Que 2. Compare and contrast np.mean() and np.average() functions in NumPy. When would you use one over the other ?\n",
        "\n",
        "# Feature\t                          np.mean()\t                                                                                np.average()\n",
        "# Basic Functionality\t              Computes the arithmetic mean of an array.\t                                                Computes the weighted average of an array (if weights are provided).\n",
        "# Weights Parameter\t                Does not support weights.\t                                                                Supports an optional weights parameter for calculating weighted averages.\n",
        "# Handling of Masks\t                Takes boolean masks into account, computing the mean only over unmasked data.\t            Ignores boolean masks, computing the average over all data regardless of masking.\n",
        "\n",
        "\n",
        "# When to Use Each Function\n",
        "\n",
        "    # Use np.mean() when:\n",
        "        # You need a simple arithmetic mean.\n",
        "        # You want to take advantage of additional parameters like dtype for controlling the precision of calculations.\n",
        "    # Use np.average() when:\n",
        "        # You need to calculate a weighted average where different elements have different levels of importance.\n"
      ],
      "metadata": {
        "id": "PhBrE7jCjoTb"
      },
      "execution_count": null,
      "outputs": []
    },
    {
      "cell_type": "code",
      "source": [
        "# Que 3. Describe the methods for reversing a NumPy array along different axes. Provide examples for 1D and 2D arrays.\n",
        "\n",
        "# Reversing a NumPy array can be accomplished in various ways, depending on the dimensions of the array and the desired axis along which to reverse it.\n",
        "\n",
        "# Methods for Reversing a NumPy Array\n",
        "# 1. Using Slicing - Slicing is a straightforward method to reverse an array by specifying a step of -1.\n",
        "\n",
        "import numpy as np\n",
        "\n",
        "arr_1d = np.array([1,2,3,4,5])\n",
        "reversed_arr_1d = arr_1d[::-1]\n",
        "print(\"Reversed 1D Array: \", reversed_arr_1d)\n",
        "\n",
        "arr_2d = np.array([[1,2,3],[4,5,6]])\n",
        "reversed_arr_2d = np.flip(arr_2d)\n",
        "print(\"Reversed 2D Array: \", reversed_arr_2d)\n",
        "\n",
        "# other methods are - 2. Using np.flip() -  The np.flip() function reverses the order of elements along the specified axis or axes.\n",
        "# 3. Using np.flipud() and np.fliplr() - These functions are specialized for flipping arrays up/down and left/right, respectively.\n",
        "\n"
      ],
      "metadata": {
        "colab": {
          "base_uri": "https://localhost:8080/"
        },
        "id": "PuMPgC0pkVqW",
        "outputId": "6b14ee41-1c60-43b0-ff61-14408094530d"
      },
      "execution_count": 1,
      "outputs": [
        {
          "output_type": "stream",
          "name": "stdout",
          "text": [
            "Reversed 1D Array:  [5 4 3 2 1]\n",
            "Reversed 2D Array:  [[6 5 4]\n",
            " [3 2 1]]\n"
          ]
        }
      ]
    },
    {
      "cell_type": "code",
      "source": [
        "# Que 4. How can you determine the data type of elements in a NumPy array? Discuss the importance of data types in memory management and performance.\n",
        "\n",
        "# To determine the data type of elements in a NumPy array, you can use the dtype attribute of the array. This attribute provides essential information about the type of data stored in the array, which is crucial for memory management and performance optimization in numerical computations.\n",
        "\n",
        "# Determining Data Type\n",
        "# Using the dtype Attribute\n",
        "# The dtype attribute returns the data type of the elements in a NumPy array.\n",
        "\n",
        "# Importance of Data Types\n",
        "\n",
        "   # Memory Management:\n",
        "        #Each data type in NumPy has a fixed size (in bytes), which allows NumPy to allocate memory efficiently. For instance, an int32 uses 4 bytes, while a float64 uses 8 bytes. By choosing the appropriate data type, you can minimize memory usage.\n",
        "\n",
        "  # Performance Optimization:\n",
        "\n",
        "    # Operations on arrays with specific data types can be faster because NumPy can leverage lower-level optimizations for those types. For example, operations on integers may be faster than on floating-point numbers due to less complexity in handling them.\n",
        "    # Using appropriate data types can also prevent issues like overflow or underflow during calculations. For instance, using int8 for large numbers could lead to overflow errors.\n",
        "\n",
        "  # Consistency:\n",
        "\n",
        "    # All elements in a NumPy array must have the same data type. This consistency allows NumPy to perform element-wise operations efficiently and predictably.\n",
        "\n",
        "  # Function Compatibility:\n",
        "\n",
        "    # Some functions and operations are only compatible with specific data types. Knowing the data type helps avoid runtime errors and ensures that functions behave as expected.\n"
      ],
      "metadata": {
        "id": "uz6n0pK3mWBJ"
      },
      "execution_count": null,
      "outputs": []
    },
    {
      "cell_type": "code",
      "source": [
        "# Que 5. Define ndarrays in NumPy and explain their key features. How do they differ from standard Python lists?\n",
        "\n",
        "# The ndarray (N-dimensional array) is the core data structure in NumPy, designed for efficient storage and manipulation of numerical data. Here’s a detailed overview of its key features and how it differs from standard Python lists.\n",
        "# Definition and Key Features of ndarrays\n",
        "# Definition\n",
        "# An ndarray is a multidimensional, homogeneous array that holds items of the same data type. It is a fixed-size container that allows for efficient computation and manipulation of large datasets.\n",
        "# Key Features\n",
        "\n",
        "    # Homogeneity: All elements in an ndarray must be of the same type, which allows for optimized memory usage and performance. The data type can be specified using the dtype attribute.\n",
        "    # N-Dimensional: Ndarrays can have any number of dimensions (1D, 2D, 3D, etc.), making them suitable for representing complex data structures like matrices and tensors.\n",
        "    # Contiguous Memory Layout: Elements are stored in contiguous blocks of memory, which enhances performance during computations due to better cache utilization.\n",
        "    # Vectorized Operations: NumPy supports vectorized operations, allowing users to perform arithmetic operations on entire arrays without explicit loops. This leads to cleaner code and faster execution.\n",
        "    # Broadcasting: Ndarrays can automatically expand their dimensions to perform operations on arrays of different shapes, enabling flexible arithmetic operations.\n",
        "    # Rich Functionality: NumPy provides a wide range of mathematical functions and tools for linear algebra, statistics, and Fourier transforms that operate directly on ndarrays.\n",
        "    # Indexing and Slicing: Ndarrays support advanced indexing and slicing techniques, allowing for easy access and manipulation of subarrays\n",
        "\n",
        "# Feature\t                          ndarrays\t                                  Standard Python Lists\n",
        "# Data Type\t            Homogeneous (same type for all elements)\t              Heterogeneous (different types allowed)\n",
        "# Memory Efficiency\t    More memory-efficient due to fixed size\t                Less memory-efficient; overhead for each element\n",
        "# Performance\t          Faster operations due to contiguous memory\t            Slower for numerical computations\n",
        "# Operations\t          Supports vectorized operations\t                        Requires explicit loops for element-wise operations\n",
        "# Dimensions\t          Can be multi-dimensional (n-D)\t                        Primarily one-dimensional; nested lists for multi-dimensional\n",
        "# Functionality\t        Extensive mathematical functions available\t            Limited built-in fu\n",
        "\n"
      ],
      "metadata": {
        "id": "uwT4uGL-nZ_g"
      },
      "execution_count": null,
      "outputs": []
    },
    {
      "cell_type": "code",
      "source": [
        "# Que 6. Analyze the performance benefits of NumPy arrays over Python lists for large-scale numerical operations.\n",
        "\n",
        "# Performance Benefits of NumPy Arrays\n",
        "# 1. Speed of Operations\n",
        "''' NumPy arrays are optimized for performance, especially in numerical computations. They are implemented in C and designed to operate on contiguous blocks of memory, which allows for faster execution of operations compared to Python lists.\n",
        "    Creation Speed: Creating a NumPy array is significantly faster than creating a Python list. For instance, benchmarks show that NumPy can be approximately 25 times faster than lists for creating arrays with one million elements1\n",
        "    Arithmetic Operations: NumPy excels in performing element-wise arithmetic operations. Operations like squaring elements can be up to 200 times faster with NumPy due to its vectorized operations, which eliminate the need for explicit loops1\n",
        "    Mathematical Functions: Built-in mathematical functions (e.g., trigonometric calculations) are also optimized in NumPy. For example, computing the sine of elements in an array can be over 13 times faster with NumPy compared to using Python lists1\n",
        "\n",
        "2. Memory Efficiency\n",
        "NumPy arrays are more memory-efficient than Python lists because they store elements of the same type in a contiguous block of memory. This homogeneous storage reduces overhead and allows NumPy to use less memory overall.\n",
        "\n",
        "    Reduced Memory Overhead: While a Python list can contain mixed types (integers, floats, strings), which incurs additional overhead, a NumPy array requires all elements to be of the same type, allowing for tighter packing and less wasted space5\n",
        "\n",
        "3. Vectorization and Broadcasting\n",
        "NumPy's ability to perform vectorized operations means that it can apply operations across entire arrays without the need for explicit loops. This not only simplifies code but also enhances performance.\n",
        "\n",
        "    Broadcasting: This feature allows NumPy to perform arithmetic operations on arrays of different shapes by automatically expanding dimensions as needed. This capability leads to concise and efficient code that runs much faster than equivalent Python list operations1\n",
        "    .\n",
        "\n",
        "4. Optimized Aggregation Functions\n",
        "Aggregating data (e.g., summing values) is significantly faster with NumPy. Benchmarks indicate that summing elements in a NumPy array can be over 22 times faster than summing values in a Python list1\n",
        ". This is due to optimized implementations in NumPy that leverage its underlying data structures\n",
        "'''"
      ],
      "metadata": {
        "id": "lykM8Aqooeai"
      },
      "execution_count": null,
      "outputs": []
    },
    {
      "cell_type": "code",
      "source": [
        "# Que 7. Compare vstack() and hstack() functions in NumPy. Provide examples demonstrating their usage and output.\n",
        "\n",
        "# Feature\t                              np.vstack()\t                                                        np.hstack()\n",
        "# Functionality\t            Stacks arrays in sequence vertically (row-wise).\t                    Stacks arrays in sequence horizontally (column-wise).\n",
        "# Input Requirements\t      Arrays must have the same shape along all but the first axis.        \tArrays must have the same shape along all but the second axis (1-D arrays can be of any length).\n",
        "# Dimensionality\t          Returns at least a 2-D array.                                        \tReturns at least a 2-D array.\n",
        "\n",
        "\n",
        "# Example of np.vstack()\n",
        "\n",
        "import numpy as np\n",
        "\n",
        "arr1 = np.array([1, 2, 3])\n",
        "arr2 = np.array([4, 5, 6])\n",
        "stacked_arr = np.vstack((arr1, arr2))\n",
        "print(\"Stacked Array (np.vstack()):\\n\", stacked_arr)\n",
        "\n",
        "# Example of np.hstack()\n",
        "\n",
        "arr1 = np.array([1, 2, 3])\n",
        "arr2 = np.array([4, 5, 6])\n",
        "stacked_arr = np.hstack((arr1, arr2))\n",
        "print(\"Stacked Array (np.hstack()):\\n\", stacked_arr)\n"
      ],
      "metadata": {
        "colab": {
          "base_uri": "https://localhost:8080/"
        },
        "id": "KhAepv-WpZMu",
        "outputId": "ef687797-88c3-47db-9eb5-e90602350dfc"
      },
      "execution_count": 2,
      "outputs": [
        {
          "output_type": "stream",
          "name": "stdout",
          "text": [
            "Stacked Array (np.vstack()):\n",
            " [[1 2 3]\n",
            " [4 5 6]]\n",
            "Stacked Array (np.hstack()):\n",
            " [1 2 3 4 5 6]\n"
          ]
        }
      ]
    },
    {
      "cell_type": "code",
      "source": [
        "# Que 8. Explain the differences between fliplr() and flipud() methods in NumPy, including their effects on various array dimensions.\n",
        "\n",
        "# The np.fliplr() and np.flipud() functions in NumPy are designed to reverse the order of elements in arrays, but they do so along different axes. Here’s a detailed explanation of their differences, usage, and effects on various array dimensions.\n",
        "# Differences Between fliplr() and flipud()\n",
        "# Functionality\n",
        "\n",
        "#    np.fliplr(m): Flips the input array left to right (i.e., reverses the order of columns). This means that for each row in a 2D array, the first column becomes the last, the second becomes the second last, and so on.\n",
        "#    np.flipud(m): Flips the input array up to down (i.e., reverses the order of rows). For each column in a 2D array, the first row becomes the last, the second becomes the second last, etc.\n",
        "\n",
        "# Input Requirements\n",
        "\n",
        "#    Both functions require at least a 2D array as input. However, np.flipud() can also operate on 1D arrays, treating them as single-column arrays.\n",
        "\n",
        "# Equivalent Operations\n",
        "\n",
        "#    np.fliplr(m) is equivalent to slicing with m[:, ::-1], which reverses the columns.\n",
        "#    np.flipud(m) is equivalent to slicing with m[::-1, ...], which reverses the rows.\n",
        "\n",
        "# Effects on Various Array Dimensions\n",
        "\n",
        "#For a 1D Array\n",
        "array_1d = np.array([1, 2, 3])\n",
        "\n",
        "flipped_ud_1d = np.flipud(array_1d)\n",
        "print(\"Flipped Up to Down (1D):\", flipped_ud_1d)\n"
      ],
      "metadata": {
        "colab": {
          "base_uri": "https://localhost:8080/"
        },
        "id": "TiKR8iF6qjxC",
        "outputId": "96407c2b-b6cb-4970-d21e-9157e5406920"
      },
      "execution_count": 4,
      "outputs": [
        {
          "output_type": "stream",
          "name": "stdout",
          "text": [
            "Flipped Up to Down (1D): [3 2 1]\n"
          ]
        }
      ]
    },
    {
      "cell_type": "code",
      "source": [
        "# Que 9. Discuss the functionality of the array_split() method in NumPy. How does it handle uneven splits?\n",
        "\n",
        "# The numpy.array_split() function is a versatile method in NumPy used to split an array into multiple sub-arrays. It is particularly useful for handling large datasets by breaking them down into smaller, more manageable pieces.\n",
        "\n",
        "# Synax - numpy.array_split(ary, indices_or_sections, axis=0)\n",
        "\n",
        "#Example  Uneven Splits\n",
        "\n",
        "import numpy as np\n",
        "\n",
        "# Create a 1D array\n",
        "arr = np.arange(9)\n",
        "# Split into 3 parts\n",
        "result_uneven = np.array_split(arr, 3)\n",
        "print(\"Split into 3 parts:\", result_uneven)\n"
      ],
      "metadata": {
        "colab": {
          "base_uri": "https://localhost:8080/"
        },
        "id": "y4XIVtcgrrqv",
        "outputId": "ab483f0d-3474-4d0f-8c3b-3c1803114d7f"
      },
      "execution_count": 6,
      "outputs": [
        {
          "output_type": "stream",
          "name": "stdout",
          "text": [
            "Split into 3 parts: [array([0, 1, 2]), array([3, 4, 5]), array([6, 7, 8])]\n"
          ]
        }
      ]
    },
    {
      "cell_type": "code",
      "source": [
        "# Que 10. Explain the concepts of vectorization and broadcasting in NumPy. How do they contribute to efficient array operations\n",
        "\n",
        "# Vectorization and broadcasting are two fundamental concepts in NumPy that significantly enhance the efficiency of array operations. They allow for optimized computations by leveraging low-level implementations and eliminating the need for explicit loops in Python code. Here's a detailed exploration of both concepts.\n",
        "# Vectorization\n",
        "# Definition - Vectorization refers to the process of applying operations to entire arrays rather than individual elements. In NumPy, this is achieved through the use of built-in functions and operators that are optimized and implemented in low-level languages like C. This allows for operations to be executed simultaneously on multiple values, leading to significant performance improvements\n",
        "\n",
        "# Broadcasting\n",
        "# Definition - Broadcasting is a technique that allows NumPy to perform arithmetic operations on arrays of different shapes. It automatically expands the smaller array across the larger one so that they have compatible dimensions for element-wise operations.\n",
        "\n",
        "# Contribution to Efficient Array Operations\n",
        "# Performance Enhancements\n",
        "\n",
        "   # Speed: Both vectorization and broadcasting leverage optimized C code under the hood, significantly speeding up computations compared to traditional Python loops.\n",
        "   # Memory Efficiency: Broadcasting minimizes memory usage by avoiding the need to create large temporary arrays when performing operations between differently shaped arrays.\n",
        "   # Cleaner Code: These techniques lead to more concise and readable code by eliminating explicit loops and manual reshaping.\n",
        "\n"
      ],
      "metadata": {
        "id": "7gJ1z8I-sYpz"
      },
      "execution_count": null,
      "outputs": []
    },
    {
      "cell_type": "markdown",
      "source": [
        "                                                  **PRACTICAL QUESTIONS**"
      ],
      "metadata": {
        "id": "GZ-5t935tJ8p"
      }
    },
    {
      "cell_type": "code",
      "source": [
        "# Que 1. Create a 3x3 NumPy array with random integers between 1 and 100. Then, interchange its rows and columns.\\\n",
        "\n",
        "import numpy as np\n",
        "\n",
        "array = np.random.randint(1, 101, size=(3, 3))\n",
        "print(\"Original Array:\")\n",
        "print(array)\n",
        "\n",
        "transposed_array = np.transpose(array)\n",
        "print(\"Transposed Array:\")\n",
        "print(transposed_array)\n"
      ],
      "metadata": {
        "colab": {
          "base_uri": "https://localhost:8080/"
        },
        "id": "mGjOJ2_qtTMs",
        "outputId": "90984e50-4cbb-4ec7-9b94-6c08588b10ef"
      },
      "execution_count": 1,
      "outputs": [
        {
          "output_type": "stream",
          "name": "stdout",
          "text": [
            "Original Array:\n",
            "[[50 81 27]\n",
            " [35 20 59]\n",
            " [28 73 45]]\n",
            "Transposed Array:\n",
            "[[50 35 28]\n",
            " [81 20 73]\n",
            " [27 59 45]]\n"
          ]
        }
      ]
    },
    {
      "cell_type": "code",
      "source": [
        "# Que 2. Generate a 1D NumPy array with 10 elements. Reshape it into a 2x5 array, then into a 5x2 array.\n",
        "\n",
        "import numpy as np\n",
        "\n",
        "# Create a 1D NumPy array with 10 elements\n",
        "array_1d = np.arange(10)\n",
        "print(\"Original 1D Array:\")\n",
        "\n",
        "print(array_1d)\n",
        "\n",
        "# Reshape into a 2x5 array\n",
        "array_2x5 = array_1d.reshape(2, 5)\n",
        "print(\"Reshaped into a 2x5 Array:\")\n",
        "print(array_2x5)\n",
        "\n",
        "# Reshape into a 5x2 array\n",
        "array_5x2 = array_2x5.reshape(5, 2)\n",
        "print(\"Reshaped into a 5x2 Array:\")\n",
        "print(array_5x2)\n"
      ],
      "metadata": {
        "colab": {
          "base_uri": "https://localhost:8080/"
        },
        "id": "X3hSC7GUN2-t",
        "outputId": "2ca344ba-c266-4fea-d997-1cf34bd84f0c"
      },
      "execution_count": 4,
      "outputs": [
        {
          "output_type": "stream",
          "name": "stdout",
          "text": [
            "Original 1D Array:\n",
            "[0 1 2 3 4 5 6 7 8 9]\n",
            "Reshaped into a 2x5 Array:\n",
            "[[0 1 2 3 4]\n",
            " [5 6 7 8 9]]\n",
            "Reshaped into a 5x2 Array:\n",
            "[[0 1]\n",
            " [2 3]\n",
            " [4 5]\n",
            " [6 7]\n",
            " [8 9]]\n"
          ]
        }
      ]
    },
    {
      "cell_type": "code",
      "source": [
        "# Que 3. Create a 4x4 NumPy array with random float values. Add a border of zeros around it, resulting in a 6x6 array.\n",
        "\n",
        "import numpy as np\n",
        "\n",
        "# Create a 4x4 NumPy array with random float values\n",
        "array = np.random.rand(4, 4)\n",
        "print(\"Original Array:\")\n",
        "print(array)\n",
        "\n",
        "# Add a border of zeros around the array\n",
        "bordered_array = np.pad(array, pad_width=1, mode='constant', constant_values=0)\n",
        "print(\"Array with Border of Zeros:\")\n",
        "print(bordered_array)\n",
        "\n",
        "\n"
      ],
      "metadata": {
        "colab": {
          "base_uri": "https://localhost:8080/"
        },
        "id": "iIqtsmqQOgTz",
        "outputId": "f931ed8a-028c-4ca8-88b7-428329cf0ac6"
      },
      "execution_count": 5,
      "outputs": [
        {
          "output_type": "stream",
          "name": "stdout",
          "text": [
            "Original Array:\n",
            "[[0.06865417 0.42093393 0.90464416 0.292842  ]\n",
            " [0.93543246 0.21836083 0.91230705 0.84534129]\n",
            " [0.50347607 0.66661636 0.32661714 0.17161765]\n",
            " [0.09483905 0.36328496 0.44314528 0.91140464]]\n",
            "Array with Border of Zeros:\n",
            "[[0.         0.         0.         0.         0.         0.        ]\n",
            " [0.         0.06865417 0.42093393 0.90464416 0.292842   0.        ]\n",
            " [0.         0.93543246 0.21836083 0.91230705 0.84534129 0.        ]\n",
            " [0.         0.50347607 0.66661636 0.32661714 0.17161765 0.        ]\n",
            " [0.         0.09483905 0.36328496 0.44314528 0.91140464 0.        ]\n",
            " [0.         0.         0.         0.         0.         0.        ]]\n"
          ]
        }
      ]
    },
    {
      "cell_type": "code",
      "source": [
        "# Que 4. Using NumPy, create an array of integers from 10 to 60 with a step of 5.\n",
        "\n",
        "import numpy as np\n",
        "\n",
        "# Create an array of integers from 10 to 60 with a step of 5\n",
        "array = np.arange(10, 61, 5)\n",
        "print(array)\n",
        "\n"
      ],
      "metadata": {
        "colab": {
          "base_uri": "https://localhost:8080/"
        },
        "id": "lYUsFWCkO0NQ",
        "outputId": "58b47dff-eab2-4ad1-9976-f1c8e0bf85f2"
      },
      "execution_count": 6,
      "outputs": [
        {
          "output_type": "stream",
          "name": "stdout",
          "text": [
            "[10 15 20 25 30 35 40 45 50 55 60]\n"
          ]
        }
      ]
    },
    {
      "cell_type": "code",
      "source": [
        "# Que 5. Create a NumPy array of strings ['python', 'numpy', 'pandas']. Apply different case transformations (uppercase, lowercase, title case, etc.) to each element.\n",
        "\n",
        "import numpy as np\n",
        "\n",
        "# Create a NumPy array of strings\n",
        "strings_array = np.array(['python', 'numpy', 'pandas'])\n",
        "print(\"Original Array:\")\n",
        "\n",
        "print(strings_array)\n",
        "\n",
        "# Apply different case transformations\n",
        "uppercase_array = np.char.upper(strings_array)\n",
        "lowercase_array = np.char.lower(strings_array)\n",
        "titlecase_array = np.char.title(strings_array)\n",
        "\n",
        "print(\"Uppercase Array:\")\n",
        "print(uppercase_array)\n",
        "\n",
        "print(\"Lowercase Array:\")\n",
        "print(lowercase_array)\n",
        "\n",
        "print(\"Titlecase Array:\")\n",
        "print(titlecase_array)\n",
        "\n"
      ],
      "metadata": {
        "colab": {
          "base_uri": "https://localhost:8080/"
        },
        "id": "SCEECNgdPLAt",
        "outputId": "2cb7190c-c81c-43c1-c3cf-2f13a5e36d81"
      },
      "execution_count": 8,
      "outputs": [
        {
          "output_type": "stream",
          "name": "stdout",
          "text": [
            "Original Array:\n",
            "['python' 'numpy' 'pandas']\n",
            "Uppercase Array:\n",
            "['PYTHON' 'NUMPY' 'PANDAS']\n",
            "Lowercase Array:\n",
            "['python' 'numpy' 'pandas']\n",
            "Titlecase Array:\n",
            "['Python' 'Numpy' 'Pandas']\n"
          ]
        }
      ]
    },
    {
      "cell_type": "code",
      "source": [
        "# Que 6. Generate a NumPy array of words. Insert a space between each character of every word in the array.\n",
        "\n",
        "import numpy as np\n",
        "\n",
        "# Create a NumPy array of words\n",
        "words_array = np.array(['python', 'numpy', 'pandas'])\n",
        "print(\"Original Array:\")\n",
        "\n",
        "print(words_array)\n",
        "\n",
        "# Insert a space between each character of every word\n",
        "spaced_words_array = np\n",
        "\n",
        "np.char.join(' ', words_array)\n",
        "print(\"Spaced Array:\")\n",
        "print(spaced_words_array)"
      ],
      "metadata": {
        "colab": {
          "base_uri": "https://localhost:8080/"
        },
        "id": "RB0lp64zPdvf",
        "outputId": "f0ecc65a-5d3d-40b9-f848-7beda95cf6f5"
      },
      "execution_count": 10,
      "outputs": [
        {
          "output_type": "stream",
          "name": "stdout",
          "text": [
            "Original Array:\n",
            "['python' 'numpy' 'pandas']\n",
            "Spaced Array:\n",
            "<module 'numpy' from '/usr/local/lib/python3.10/dist-packages/numpy/__init__.py'>\n"
          ]
        }
      ]
    },
    {
      "cell_type": "code",
      "source": [
        "# Que 7. Create two 2D NumPy arrays and perform element-wise addition, subtraction, multiplication, and division.\n",
        "\n",
        "import numpy as np\n",
        "\n",
        "# Create two 2D NumPy arrays\n",
        "array1 = np.array([[1, 2], [3, 4]])\n",
        "\n",
        "array2 = np.array([[5, 6], [7, 8]])\n",
        "\n",
        "# Element-wise addition\n",
        "addition_result = array1 + array2\n",
        "print(\"Addition Result:\")\n",
        "print(addition_result)\n",
        "\n",
        "# Element-wise subtraction\n",
        "subtraction_result = array1 - array2\n",
        "print(\"Subtraction Result:\")\n",
        "print(subtraction_result)\n",
        "\n",
        "# Element-wise multiplication\n",
        "multiplication_result = array1 * array2\n",
        "print(\"Multiplication Result:\")\n",
        "print(multiplication_result)\n",
        "\n",
        "# Element-wise division\n",
        "division_result = array1 / array2\n",
        "print(\"Division Result:\")\n",
        "print(division_result)"
      ],
      "metadata": {
        "colab": {
          "base_uri": "https://localhost:8080/"
        },
        "id": "mR7l3ox0QAIc",
        "outputId": "d98fce5e-b836-4a04-85ab-6a1dd2c94e59"
      },
      "execution_count": 11,
      "outputs": [
        {
          "output_type": "stream",
          "name": "stdout",
          "text": [
            "Addition Result:\n",
            "[[ 6  8]\n",
            " [10 12]]\n",
            "Subtraction Result:\n",
            "[[-4 -4]\n",
            " [-4 -4]]\n",
            "Multiplication Result:\n",
            "[[ 5 12]\n",
            " [21 32]]\n",
            "Division Result:\n",
            "[[0.2        0.33333333]\n",
            " [0.42857143 0.5       ]]\n"
          ]
        }
      ]
    },
    {
      "cell_type": "code",
      "source": [
        "# Que 8. Use NumPy to create a 5x5 identity matrix, then extract its diagonal elements.\n",
        "\n",
        "import numpy as np\n",
        "\n",
        "# Create a 5x5 identity matrix\n",
        "identity_matrix = np.eye(5)\n",
        "print(\"Identity Matrix:\")\n",
        "print(identity_matrix)\n",
        "\n",
        "# Extract the diagonal elements\n",
        "diagonal_elements = np.diag(identity_matrix)\n",
        "print(\"Diagonal Elements:\")\n",
        "print(diagonal_elements)\n"
      ],
      "metadata": {
        "colab": {
          "base_uri": "https://localhost:8080/"
        },
        "id": "q2x_3BOEQeQ9",
        "outputId": "50a050e1-d7d9-4b2d-c0ef-329e37e6b196"
      },
      "execution_count": 12,
      "outputs": [
        {
          "output_type": "stream",
          "name": "stdout",
          "text": [
            "Identity Matrix:\n",
            "[[1. 0. 0. 0. 0.]\n",
            " [0. 1. 0. 0. 0.]\n",
            " [0. 0. 1. 0. 0.]\n",
            " [0. 0. 0. 1. 0.]\n",
            " [0. 0. 0. 0. 1.]]\n",
            "Diagonal Elements:\n",
            "[1. 1. 1. 1. 1.]\n"
          ]
        }
      ]
    },
    {
      "cell_type": "code",
      "source": [
        "# Que 9. Generate a NumPy array of 100 random integers between 0 and 1000. Find and display all prime numbers in this array\n",
        "\n",
        "import numpy as np\n",
        "\n",
        "# Generate a NumPy array of 100 random integers between 0 and 1000\n",
        "random_array = np.random.randint(0, 1001, size=100)\n",
        "\n",
        "# Function to check for prime numbers\n",
        "def is_prime(num):\n",
        "    if num <= 1:\n",
        "        return False\n",
        "    for i in range(2, int(num**0.5) + 1):\n",
        "        if num % i == 0:\n",
        "            return False\n",
        "    return True\n",
        "\n",
        "# Find all prime numbers in the array\n",
        "prime_numbers = [num for num in random_array if is_prime(num)]\n",
        "\n",
        "# Display the prime numbers\n",
        "print(\"Prime Numbers in the Array:\")\n",
        "print(prime_numbers)\n"
      ],
      "metadata": {
        "colab": {
          "base_uri": "https://localhost:8080/"
        },
        "id": "vg6jrTUxQv70",
        "outputId": "22cafc80-70a8-41ae-d0ae-12595fe3023a"
      },
      "execution_count": 17,
      "outputs": [
        {
          "output_type": "stream",
          "name": "stdout",
          "text": [
            "Prime Numbers in the Array:\n",
            "[733, 613, 173, 397, 563, 593, 293, 61, 983, 647, 283, 853, 479, 241, 281, 61, 127, 277, 911]\n"
          ]
        }
      ]
    },
    {
      "cell_type": "code",
      "source": [
        "# Que 10. Create a NumPy array representing daily temperatures for a month. Calculate and display the weekly averages\n",
        "\n",
        "import numpy as np\n",
        "\n",
        "# Create a NumPy array representing daily temperatures for a month (30 days)\n",
        "daily_temperatures = np.random.randint(0, 101, size=30)  # Random temperatures between 0 and 100\n",
        "\n",
        "# Print the daily temperatures\n",
        "print(\"Daily Temperatures for the Month:\")\n",
        "print(daily_temperatures)\n",
        "\n",
        "# Reshape the array into weeks (4 weeks of 7 days each, plus 2 extra days)\n",
        "weekly_temperatures = daily_temperatures.reshape(-1, 7)\n",
        "\n",
        "# Calculate weekly averages\n",
        "weekly_averages = weekly_temperatures.mean(axis=1)\n",
        "\n",
        "# Display the weekly averages\n",
        "print(\"\\nWeekly Averages:\")\n",
        "for week_num, avg_temp in enumerate(weekly_averages, start=1):\n",
        "    print(f\"Week {week_num}: Average Temperature = {avg_temp:.2f} °C\")\n"
      ],
      "metadata": {
        "id": "IJw8pT9bR_hc"
      },
      "execution_count": 23,
      "outputs": []
    }
  ]
}