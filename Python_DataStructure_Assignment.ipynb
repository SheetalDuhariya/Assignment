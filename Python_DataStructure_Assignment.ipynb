{
  "nbformat": 4,
  "nbformat_minor": 0,
  "metadata": {
    "colab": {
      "provenance": []
    },
    "kernelspec": {
      "name": "python3",
      "display_name": "Python 3"
    },
    "language_info": {
      "name": "python"
    }
  },
  "cells": [
    {
      "cell_type": "code",
      "source": [
        "# Que 1. Discuss string slicing and provide examples\n",
        "# - String slicing is a powerful feature in Python that allows you to extract specific portions of strings. This operation is fundamental for string manipulation, enabling developers to isolate and modify substrings efficiently.\n",
        "\n",
        "\n",
        "email = \"john.doe@example.com\"\n",
        "username = email[0:8]\n",
        "print(username)  # Output: john.doe\n"
      ],
      "metadata": {
        "id": "cfg2Vh54jngs"
      },
      "execution_count": null,
      "outputs": []
    },
    {
      "cell_type": "markdown",
      "source": [
        "Que 2. Explain the key features of lists in Python\n",
        "\n",
        "1. Ordered\n",
        "Lists maintain the order of elements as they are added. The first element has an index of 0, the second has an index of 1, and so on. This order remains consistent unless explicitly modified.\n",
        "\n",
        "2. Mutable\n",
        "Lists are mutable, meaning you can change, add, or remove items after the list has been created. For example, you can append new elements or modify existing ones easily.\n",
        "\n",
        "3. Allow Duplicates\n",
        "Lists can contain multiple occurrences of the same value. This feature is useful when you need to maintain a record of items that may repeat.\n",
        "\n",
        "4. Heterogeneous Data Types\n",
        "A single list can hold items of different data types, such as integers, strings, and even other lists. For instance\n",
        "\n",
        "5. Dynamic Sizing\n",
        "Lists in Python can grow or shrink in size as needed. You do not need to declare a fixed size when creating a list.\n",
        "\n",
        "7. Slicing\n",
        "You can access sub-parts of a list using slicing syntax similar to strings\n",
        "\n",
        "8. Length Function\n",
        "You can determine the number of items in a list using the len() function\n",
        "\n",
        "9. List Comprehensions\n",
        "Python supports concise syntax for creating lists through list comprehensions, allowing for more readable and efficient code"
      ],
      "metadata": {
        "id": "fwJdzhy5knkk"
      }
    },
    {
      "cell_type": "code",
      "source": [
        "# Que 3. Describe how to access, modify, and delete elements in a list with examples\n",
        "# Accessing Elements in a List - access elements in a list using their index. Python uses zero-based indexing, meaning the first element is at index 0.\n",
        "\n",
        "fruits = [\"apple\", \"banana\", \"cherry\"]\n",
        "first_fruit = fruits[0]  # Accessing the first element\n",
        "print(first_fruit)  # Output: apple\n",
        "\n",
        "# Accessing an element using negative indexing\n",
        "last_fruit = fruits[-1]  # Accessing the last element\n",
        "print(last_fruit)  # Output: cherry\n",
        "\n",
        "# Modifying Elements in a List - Lists are mutable, which means you can change their content after creation .  modify an element by assigning a new value to its index\n",
        "\n",
        "fruits = [\"apple\", \"banana\", \"cherry\"]\n",
        "fruits[1] = \"orange\"  # Changing the second element\n",
        "print(fruits)  # Output: ['apple', 'orange', 'cherry']\n",
        "\n",
        "# Deleting Elements from a List -  There are several methods to delete elements from a list in Python\n",
        "\n",
        "fruits = [\"apple\", \"banana\", \"cherry\"]\n",
        "del fruits[0]  # Deletes the first element\n",
        "print(fruits)  # Output: ['banana', 'cherry']\n",
        "\n",
        "# Deleting multiple elements by specifying a range\n",
        "fruits = [\"apple\", \"banana\", \"cherry\", \"date\"]\n",
        "del fruits[1:3]  # Deletes elements at index 1 and 2 (banana and cherry)\n",
        "print(fruits)  # Output: ['apple', 'date']\n",
        "\n"
      ],
      "metadata": {
        "id": "i2GfN6vUlCSz"
      },
      "execution_count": null,
      "outputs": []
    },
    {
      "cell_type": "code",
      "source": [
        "# Que 4.  Compare and contrast tuples and lists with examples\n",
        "\n",
        "# Feature\t            Lists\t                            Tuples\n",
        "# Mutability\t        Mutable\t                          Immutable\n",
        "# Size\t              Dynamic\t                          Fixed\n",
        "# Syntax\t              []\t                              ()\n",
        "# Memory Consumption\tMore\t                            Less\n",
        "# Built-in Methods\t  More (46)\t                        Fewer (33)\n",
        "# Use Cases\t          General-purpose collections\t      Fixed collections, keys in dictionaries\n",
        "\n",
        "# Creating a list\n",
        "my_list = [1, 2, 3, 4]\n",
        "print(\"List:\", my_list)  # Output: List: [1, 2, 3, 4]\n",
        "\n",
        "# Creating a tuple\n",
        "my_tuple = (1, 2, 3, 4)\n",
        "print(\"Tuple:\", my_tuple)  # Output: Tuple: (1, 2, 3, 4)\n",
        "\n",
        "# Accessing elements\n",
        "print(my_list[0])   # Output: 1\n",
        "print(my_tuple[0])  # Output: 1\n"
      ],
      "metadata": {
        "id": "u3st-6Cwl8LU"
      },
      "execution_count": null,
      "outputs": []
    },
    {
      "cell_type": "code",
      "source": [
        "# Que 5. Describe the key features of sets and provide examples of their use\n",
        "\n",
        "# Sets in Python are a built-in data type used to store collections of unique items. They are particularly useful for operations involving membership testing, removing duplicates, and performing mathematical set operations. Here are the key features of sets along with examples of their use.\n",
        "\n",
        "# Key Features of Sets\n",
        "# 1. Unordered\n",
        "# Sets do not maintain any specific order for their elements. This means that the items may appear in a different order each time you access the set.\n",
        "# 2. Unique Elements\n",
        "# Sets automatically eliminate duplicate values. If you try to add a duplicate item, it will not be included in the set.\n",
        "# 3. Mutable\n",
        "# While the elements themselves must be immutable (e.g., numbers, strings, tuples), the set can be modified by adding or removing items after its creation.\n",
        "# 4. Dynamic Size\n",
        "# Sets can grow or shrink in size as elements are added or removed.\n",
        "# 5. Supports Mathematical Operations\n",
        "# Sets support various mathematical operations like union, intersection, difference, and symmetric difference.\n",
        "\n",
        "# Using curly braces\n",
        "fruits = {\"apple\", \"banana\", \"cherry\"}\n",
        "print(fruits)  # Output: {'banana', 'cherry', 'apple'}\n",
        "\n",
        "# Using the set() constructor\n",
        "numbers = set([1, 2, 3, 4])\n",
        "print(numbers)  # Output: {1, 2, 3, 4}\n"
      ],
      "metadata": {
        "id": "9ohg7gy6na05"
      },
      "execution_count": null,
      "outputs": []
    },
    {
      "cell_type": "markdown",
      "source": [
        "Que 6. Discuss the use cases of tuples and sets in Python programming\n",
        "\n",
        "Tuples and sets are both essential data structures in Python, each serving distinct purposes based on their characteristics. Here’s a discussion of their use cases.\n",
        "\n",
        "Use Cases of Tuples\n",
        "\n",
        "1. Fixed Collections of Items\n",
        "\n",
        " Tuples are ideal for storing a fixed number of items that should not change. For example, you can use tuples to represent coordinates in a 2D or 3D space\n",
        "\n",
        "2. Returning Multiple Values from Functions\n",
        "\n",
        " Tuples are commonly used to return multiple values from a function. This allows for grouping related data together\n",
        "\n",
        "3. Dictionary Keys\n",
        "\n",
        " Because tuples are immutable, they can be used as keys in dictionaries. This is useful when you need to associate pairs of values\n",
        "\n",
        "4. Data Integrity\n",
        "\n",
        " Using tuples ensures that the data remains unchanged throughout the program, which is beneficial when you want to maintain data integrity\n",
        "\n",
        "5. Heterogeneous Data Storage\n",
        "\n",
        " Tuples can store items of different types, making them suitable for representing records or mixed data\n",
        "\n",
        "\n",
        "Use Cases of Sets\n",
        "\n",
        "1. Removing Duplicates\n",
        "\n",
        " Sets automatically eliminate duplicate entries when you create them from a list or other iterable\n",
        "\n",
        "2. Membership Testing\n",
        "\n",
        " Sets provide fast membership testing due to their underlying hash table implementation. This is useful for checking if an item exists in a collection\n",
        "\n",
        "3. Mathematical Set Operations\n",
        "\n",
        " Sets support various mathematical operations like union, intersection, and difference, making them useful for tasks involving relationships between collections\n",
        "\n",
        "4. Storing Unique Items\n",
        "\n",
        "Sets are ideal for storing unique items where order does not matter—such as tags or categories\n",
        "\n",
        "5. Performance Efficiency\n",
        "\n",
        "Due to their optimized structure for membership testing and operations like union and intersection, sets can be more efficient than lists for certain tasks involving large datasets.\n"
      ],
      "metadata": {
        "id": "zOCXdg02qOGZ"
      }
    },
    {
      "cell_type": "code",
      "source": [
        "# Que 7. Describe how to add, modify, and delete items in a dictionary with examples\n",
        "\n",
        "# Dictionaries in Python are versatile data structures that store data in key-value pairs. They allow for efficient data retrieval, modification, and deletion. Here’s a detailed explanation of how to add, modify, and delete items in a dictionary, along with examples.\n",
        "# Adding Items to a Dictionary\n",
        "# You can add items to a dictionary using several methods:\n",
        "\n",
        "# Creating a dictionary\n",
        "my_dict = {\"name\": \"Alice\", \"age\": 25}\n",
        "\n",
        "# Adding a new item\n",
        "my_dict[\"city\"] = \"New York\"\n",
        "print(my_dict)  # Output: {'name': 'Alice', 'age': 25, 'city': 'New York'}\n",
        "\n",
        "# Modifying Items in a Dictionary\n",
        "# To modify an existing item, you can use either the assignment operator or the update() method.\n",
        "\n",
        "# Modifying an existing item\n",
        "my_dict[\"age\"] = 31\n",
        "print(my_dict)  # Output: {'name': 'Alice', 'age': 31, 'city': 'New York', 'job': 'Engineer', 'hobby': 'Reading'}\n",
        "\n",
        "# Deleting Items from a Dictionary\n",
        "# There are several methods to delete items from a dictionary:\n",
        "\n",
        "del my_dict[\"hobby\"]\n",
        "print(my_dict)  # Output: {'name': 'Alice', 'age': 31, 'city': 'Los Angeles', 'job': 'Engineer'}\n",
        "\n"
      ],
      "metadata": {
        "id": "FhBjojFqsKST"
      },
      "execution_count": null,
      "outputs": []
    },
    {
      "cell_type": "code",
      "source": [
        "# Que 8. Discuss the importance of dictionary keys being immutable and provide examples.\n",
        "\n",
        "# In Python, dictionary keys must be immutable, which means they cannot be changed after their creation. This requirement is crucial for maintaining the integrity and functionality of dictionaries, which rely on a hashing mechanism for efficient data retrieval. Here’s a detailed discussion on the importance of immutability for dictionary keys, along with examples.\n",
        "# Importance of Immutable Keys\n",
        "\n",
        "# 1. Hashing Mechanism\n",
        "\n",
        "#  Dictionaries in Python are implemented using hash tables. When a key-value pair is added to a dictionary, the key is hashed to produce a unique hash value that determines where the pair is stored in memory. If the key were mutable and its value changed, its hash value would also change. This inconsistency would make it impossible for the dictionary to locate the corresponding value when trying to access it later.\n",
        "# Attempting to use a list as a dictionary key\n",
        "my_dict = {[1, 2]: 'value'}  # This will raise a TypeError\n",
        "\n",
        "# Output\n",
        "# TypeError: unhashable type: 'list'\n",
        "\n",
        "# In this case, lists are mutable and cannot be used as keys because their contents can change.\n",
        "\n",
        "# 2. Data Integrity\n",
        "# Using immutable keys ensures that once a key is set in the dictionary, it cannot be altered. This guarantees that the mapping between keys and values remains consistent throughout the program's execution.\n",
        "# Using tuples as keys\n",
        "coordinate_dict = {(1, 2): \"Point A\", (3, 4): \"Point B\"}\n",
        "print(coordinate_dict[(1, 2)])  # Output: Point A\n",
        "\n",
        "# Attempting to change the tuple key (not possible)\n",
        "# coordinate_dict[(1, 2)] = \"New Point\"  # This is valid; we are changing the value associated with the immutable key.\n",
        "\n",
        "\n"
      ],
      "metadata": {
        "id": "iDbfIh5rtB8n"
      },
      "execution_count": null,
      "outputs": []
    }
  ]
}